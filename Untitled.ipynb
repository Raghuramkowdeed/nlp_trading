{
 "cells": [
  {
   "cell_type": "code",
   "execution_count": 1,
   "metadata": {},
   "outputs": [
    {
     "name": "stdout",
     "output_type": "stream",
     "text": [
      "Populating the interactive namespace from numpy and matplotlib\n"
     ]
    },
    {
     "name": "stderr",
     "output_type": "stream",
     "text": [
      "/Users/raghuramkowdeed/anaconda/lib/python2.7/site-packages/IPython/core/magics/pylab.py:161: UserWarning: pylab import has clobbered these variables: ['TH']\n",
      "`%matplotlib` prevents importing * from pylab and numpy\n",
      "  \"\\n`%matplotlib` prevents importing * from pylab and numpy\"\n"
     ]
    }
   ],
   "source": [
    "import os as os\n",
    "from dateutil.relativedelta import relativedelta, TH\n",
    "import pandas_datareader.data as web\n",
    "import datetime as dt    \n",
    "import pandas as pd\n",
    "import numpy as np\n",
    "import random as rd\n",
    "\n",
    "\n",
    "%pylab inline\n",
    "\n",
    "execfile(\"./parser/sec_crawler.py\")"
   ]
  },
  {
   "cell_type": "code",
   "execution_count": 2,
   "metadata": {
    "collapsed": true
   },
   "outputs": [],
   "source": [
    "def get_10_k_all(ticker = \"GS\", start_date = dt.datetime(2005,1,1),final_date = dt.datetime(2014,12,31) ):\n",
    "    this_dir =  \"../data/10-K/\" + ticker+\"/TEXT/\"\n",
    "    file_names = os.listdir(this_dir)\n",
    "    file_names = [ i for i in file_names if not '.swp' in i]\n",
    "    content_dict = {}\n",
    "    for i in file_names: \n",
    "        f = open(this_dir+i)\n",
    "        f_d = dt.datetime.strptime(i, '%Y-%m-%d')\n",
    "        if ( f_d < final_date ) and ( f_d > start_date ) :\n",
    "             content = f.readlines()\n",
    "             content_dict[f_d] = content\n",
    "  \n",
    "    return content_dict\n",
    "\n",
    "def get_10_k_vw_all(ticker = \"GS\", start_date = dt.datetime(2005,1,1),final_date = dt.datetime(2014,12,31) ):\n",
    "    this_dir =  \"../data/10-K/\" + ticker+\"/TEXT_VW/\"\n",
    "    file_names = os.listdir(this_dir)\n",
    "    file_names = [ i for i in file_names if not '.swp' in i]\n",
    "    content_dict = {}\n",
    "    for i in file_names: \n",
    "        f = np.load(this_dir+i)\n",
    "        f_d = dt.datetime.strptime(i.split('.')[0], '%Y-%m-%d')\n",
    "        if ( f_d < final_date ) and ( f_d > start_date ) :\n",
    "             content = f.mean(axis=0)\n",
    "             content_dict[f_d] = content\n",
    "  \n",
    "    return content_dict\n"
   ]
  },
  {
   "cell_type": "code",
   "execution_count": 3,
   "metadata": {
    "collapsed": true
   },
   "outputs": [],
   "source": [
    "def get_ticker_signal_ret(ticker = 'GS', time_horizon = 12 ):\n",
    "\n",
    "    data_dic = get_10_k_all(ticker) \n",
    "    f_dates = data_dic.keys()    \n",
    "    f_dates.sort()\n",
    "    \n",
    "    last_text = data_dic[f_dates[0]]\n",
    "    signal_vec = []\n",
    "    \n",
    "    start = f_dates[1]\n",
    "    end = f_dates[-1] +  relativedelta(months = time_horizon)\n",
    "    end = min( end, dt.datetime.today() + relativedelta(days = -3))\n",
    "    price_data = web.DataReader(ticker, 'yahoo', start, end)\n",
    "    ret_vec = []\n",
    "    \n",
    "    for i in range(1, len(f_dates)):\n",
    "        f_d = f_dates[i]\n",
    "            \n",
    "        fut_date = f_d + relativedelta(months = time_horizon)\n",
    "        this_text = data_dic[f_d]\n",
    "        words_diff = abs( len(this_text) - len(last_text) )/( len(last_text) *1.0)\n",
    "        signal_vec.append(words_diff)\n",
    "        curr_price = price_data.iloc[price_data.index.get_loc(f_d,method='nearest')].Open\n",
    "        fut_price = price_data.iloc[price_data.index.get_loc(fut_date,method='nearest')].Open\n",
    "        this_ret = ( fut_price - curr_price )/ curr_price\n",
    "        ret_vec.append(this_ret)\n",
    "    \n",
    "    this_data = {\"signal\":signal_vec, \"ret\":ret_vec}\n",
    "    return this_data\n",
    "\n",
    "def get_ticker_signal_vw_ret(ticker = 'GS', time_horizon = 12 ):\n",
    "\n",
    "    data_dic = get_10_k_vw_all(ticker) \n",
    "    f_dates = data_dic.keys()    \n",
    "    f_dates.sort()\n",
    "    \n",
    "    last_text = data_dic[f_dates[0]]\n",
    "    signal_vec = []\n",
    "    \n",
    "    start = f_dates[1]\n",
    "    end = f_dates[-1] +  relativedelta(months = time_horizon)\n",
    "    end = min( end, dt.datetime.today() + relativedelta(days = -3))\n",
    "    price_data = web.DataReader(ticker, 'yahoo', start, end)\n",
    "    ret_vec = []\n",
    "    \n",
    "    for i in range(1, len(f_dates)):\n",
    "        f_d = f_dates[i]\n",
    "            \n",
    "        fut_date = f_d + relativedelta(months = time_horizon)\n",
    "        this_text = data_dic[f_d]\n",
    "        #words_diff = np.corrcoef(this_text, last_text)[0,1]\n",
    "        words_diff = np.mean( ( this_text - last_text)*( this_text - last_text) )\n",
    "        last_text = this_text\n",
    "        signal_vec.append(words_diff)\n",
    "        curr_price = price_data.iloc[price_data.index.get_loc(f_d,method='nearest')].Open\n",
    "        fut_price = price_data.iloc[price_data.index.get_loc(fut_date,method='nearest')].Open\n",
    "        this_ret = ( fut_price - curr_price )/ curr_price\n",
    "        ret_vec.append(this_ret)\n",
    "    \n",
    "    this_data = {\"signal\":signal_vec, \"ret\":ret_vec}\n",
    "    return this_data\n"
   ]
  },
  {
   "cell_type": "code",
   "execution_count": 4,
   "metadata": {
    "collapsed": true
   },
   "outputs": [],
   "source": [
    "def get_all_tickers_signal_vw_ret(time_horizon = 12):\n",
    "    tickers = next(os.walk('../data/10-K/'))[1]\n",
    "    \n",
    "    signals_df = pd.DataFrame()\n",
    "    ret_df = pd.DataFrame()\n",
    "\n",
    "    tic = tickers[0]\n",
    "    this_data = get_ticker_signal_vw_ret(ticker=tic,time_horizon = time_horizon)\n",
    "    signals_df[tic] = this_data['signal']\n",
    "    ret_df[tic] = this_data['ret']\n",
    "    \n",
    "    for tic in tickers[1:]:\n",
    "        this_data = get_ticker_signal_ret(ticker=tic,time_horizon = time_horizon)\n",
    "        if signals_df.shape[0] == len(this_data['signal']):\n",
    "            signals_df[tic] = this_data['signal']\n",
    "            ret_df[tic] = this_data['ret']\n",
    "\n",
    "    return {'signal': signals_df, 'ret':ret_df}\n"
   ]
  },
  {
   "cell_type": "code",
   "execution_count": 5,
   "metadata": {
    "collapsed": true
   },
   "outputs": [],
   "source": [
    "def test_long_short_0 (data):\n",
    "    rd.seed(12345)\n",
    "\n",
    "    signals = data['signal']\n",
    "    ret = data['ret']\n",
    "    pnl_series = [1.0]\n",
    "    curr_pnl = 1.0\n",
    "    ret_series = []\n",
    "    \n",
    "    for i in range(signals.shape[0]):\n",
    "        curr_signal = signals.iloc[i,]\n",
    "        weights = np.zeros(signals.shape[1])\n",
    "        ind = rd.sample(range(signals.shape[1]), 10)\n",
    "        weights[ind[-5:]] = 1.0\n",
    "        weights[ind[0:5]] = -1.0\n",
    "\n",
    "        curr_ret = sum( ret.iloc[i,]*weights )\n",
    "        ret_series.append(curr_ret)\n",
    "        curr_pnl = curr_pnl+ curr_ret\n",
    "        pnl_series.append(curr_pnl)\n",
    "        \n",
    "    return pnl_series, ret_series    \n"
   ]
  },
  {
   "cell_type": "code",
   "execution_count": 6,
   "metadata": {
    "collapsed": true
   },
   "outputs": [],
   "source": [
    "def test_long_short_1 (data):\n",
    "    signals = data['signal']\n",
    "    ret = data['ret']\n",
    "    pnl_series = [1.0]\n",
    "    curr_pnl = 1.0\n",
    "    ret_series = []\n",
    "    \n",
    "    for i in range(signals.shape[0]):\n",
    "        curr_signal = signals.iloc[i,]\n",
    "        ind = curr_signal.argsort()\n",
    "        weights = np.zeros(len(ind))\n",
    "        weights[ind[-5:]] = -1.0\n",
    "        weights[ind[0:5]] = 1.0\n",
    "\n",
    "        curr_ret = sum( ret.iloc[i,]*weights )\n",
    "        ret_series.append(curr_ret)\n",
    "        curr_pnl = curr_pnl+ curr_ret\n",
    "        pnl_series.append(curr_pnl)\n",
    "        \n",
    "    return pnl_series, ret_series    \n"
   ]
  },
  {
   "cell_type": "code",
   "execution_count": 7,
   "metadata": {
    "collapsed": true
   },
   "outputs": [],
   "source": [
    "def test_long_short_2 (data):\n",
    "    signals = data['signal']\n",
    "    ret = data['ret']\n",
    "    pnl_series = [1.0]\n",
    "    curr_pnl = 1.0\n",
    "    ret_series = []\n",
    "    \n",
    "    for i in range(signals.shape[0]):\n",
    "        curr_signal = signals.iloc[i,]\n",
    "        z_scores = ( curr_signal - curr_signal.mean() ) / curr_signal.std()\n",
    "        weights = -z_scores\n",
    "\n",
    "        curr_ret = sum( ret.iloc[i,]*weights )\n",
    "        ret_series.append( curr_ret )\n",
    "        curr_pnl = curr_pnl + ( curr_ret)\n",
    "        pnl_series.append(curr_pnl)\n",
    "        \n",
    "    return pnl_series, ret_series    \n"
   ]
  },
  {
   "cell_type": "code",
   "execution_count": 8,
   "metadata": {},
   "outputs": [],
   "source": [
    "df = get_all_tickers_signal_vw_ret()\n"
   ]
  },
  {
   "cell_type": "code",
   "execution_count": 9,
   "metadata": {
    "collapsed": true
   },
   "outputs": [],
   "source": [
    "dates = [dt.datetime(2004,1,1) + relativedelta(years=i) for i in range(10) ]"
   ]
  },
  {
   "cell_type": "code",
   "execution_count": 10,
   "metadata": {},
   "outputs": [
    {
     "name": "stdout",
     "output_type": "stream",
     "text": [
      "sharpe ratio = -0.578540737147\n"
     ]
    }
   ],
   "source": [
    "\n",
    "pnl_series_1, ret_series_1 = test_long_short_0(df)\n",
    "mean_ret = np.mean(ret_series_1)\n",
    "std_ret = np.std(ret_series_1)\n",
    "sharpe_ratio = mean_ret/std_ret\n",
    "print 'sharpe ratio = ' + str(sharpe_ratio)"
   ]
  },
  {
   "cell_type": "code",
   "execution_count": 11,
   "metadata": {},
   "outputs": [
    {
     "name": "stdout",
     "output_type": "stream",
     "text": [
      "sharpe ratio = 0.681574673253\n"
     ]
    }
   ],
   "source": [
    "\n",
    "pnl_series_1, ret_series_1 = test_long_short_1(df)\n",
    "mean_ret = np.mean(ret_series_1)\n",
    "std_ret = np.std(ret_series_1)\n",
    "sharpe_ratio = mean_ret/std_ret\n",
    "print 'sharpe ratio = ' + str(sharpe_ratio)"
   ]
  },
  {
   "cell_type": "code",
   "execution_count": 12,
   "metadata": {},
   "outputs": [
    {
     "data": {
      "text/plain": [
       "<matplotlib.text.Text at 0x1144daa50>"
      ]
     },
     "execution_count": 12,
     "metadata": {},
     "output_type": "execute_result"
    },
    {
     "data": {
      "image/png": "[encoded data removed]",
      "text/plain": [
       "<matplotlib.figure.Figure at 0x115687d50>"
      ]
     },
     "metadata": {},
     "output_type": "display_data"
    }
   ],
   "source": [
    "plot(dates, pnl_series_1)\n",
    "pylab.xlabel('time')\n",
    "pylab.ylabel('cumulative pnl')\n",
    "pylab.title('quantile portfolio allocation')"
   ]
  },
  {
   "cell_type": "code",
   "execution_count": 13,
   "metadata": {},
   "outputs": [
    {
     "name": "stdout",
     "output_type": "stream",
     "text": [
      "sharpe ratio = 0.395421628938\n"
     ]
    }
   ],
   "source": [
    "pnl_series_1, ret_series_1 = test_long_short_2(df)\n",
    "mean_ret = np.mean(ret_series_1)\n",
    "std_ret = np.std(ret_series_1)\n",
    "sharpe_ratio = mean_ret/std_ret\n",
    "print 'sharpe ratio = ' + str(sharpe_ratio)"
   ]
  },
  {
   "cell_type": "code",
   "execution_count": 14,
   "metadata": {},
   "outputs": [
    {
     "data": {
      "text/plain": [
       "<matplotlib.text.Text at 0x1156c7790>"
      ]
     },
     "execution_count": 14,
     "metadata": {},
     "output_type": "execute_result"
    },
    {
     "data": {
      "image/png": "[encoded data removed]",
      "text/plain": [
       "<matplotlib.figure.Figure at 0x11563ae10>"
      ]
     },
     "metadata": {},
     "output_type": "display_data"
    }
   ],
   "source": [
    "plot(dates,pnl_series_1)\n",
    "pylab.xlabel('time')\n",
    "pylab.ylabel('cumulative pnl')\n",
    "pylab.title('optimal portfolio allocation')"
   ]
  },
  {
   "cell_type": "code",
   "execution_count": null,
   "metadata": {
    "collapsed": true
   },
   "outputs": [],
   "source": []
  }
 ],
 "metadata": {
  "kernelspec": {
   "display_name": "Python 2",
   "language": "python",
   "name": "python2"
  },
  "language_info": {
   "codemirror_mode": {
    "name": "ipython",
    "version": 2
   },
   "file_extension": ".py",
   "mimetype": "text/x-python",
   "name": "python",
   "nbconvert_exporter": "python",
   "pygments_lexer": "ipython2",
   "version": "2.7.13"
  }
 },
 "nbformat": 4,
 "nbformat_minor": 2
}
