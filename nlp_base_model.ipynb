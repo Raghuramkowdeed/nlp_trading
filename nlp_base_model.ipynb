{
 "cells": [
  {
   "cell_type": "code",
   "execution_count": 8,
   "metadata": {},
   "outputs": [
    {
     "name": "stdout",
     "output_type": "stream",
     "text": [
      "Populating the interactive namespace from numpy and matplotlib\n"
     ]
    }
   ],
   "source": [
    "import os as os\n",
    "from dateutil.relativedelta import relativedelta, TH\n",
    "import pandas_datareader.data as web\n",
    "import datetime as dt    \n",
    "import pandas as pd\n",
    "import numpy as np\n",
    "import random as rd\n",
    "\n",
    "\n",
    "%pylab inline\n",
    "\n",
    "execfile(\"./parser/sec_crawler.py\")"
   ]
  },
  {
   "cell_type": "code",
   "execution_count": 16,
   "metadata": {},
   "outputs": [],
   "source": [
    "def read_file(file_name):\n",
    "    try :\n",
    "        with codecs.open(file_name,'rb',encoding='utf-8') as fin:\n",
    "             text = fin.read()\n",
    "             fin.close()\n",
    "             return text   \n",
    "    except IOError:\n",
    "        print file_name + ' not found'\n",
    "        return 0\n",
    "        \n",
    "def get_words_from_string(text):\n",
    "    lines = text.split(\"\\n\")\n",
    "    lines = [ x.strip() for x in lines if len(x) > 0]\n",
    "    lines = [ x.split(\" \") for x in lines if len(x) > 0]\n",
    "                \n",
    "    words = []\n",
    "    for line in lines:\n",
    "        for tw in line:\n",
    "            words.append(tw)\n",
    "    words = [ i for i in words if len(i) > 3]            \n",
    "    return words\n",
    "        \n"
   ]
  },
  {
   "cell_type": "code",
   "execution_count": 105,
   "metadata": {
    "collapsed": true
   },
   "outputs": [],
   "source": [
    "def similarity_score_word_count(curr_file, prev_file ):\n",
    "        curr_text = read_file(curr_file)\n",
    "        prev_text = read_file(prev_file)\n",
    "        score = 0.0\n",
    "        msg = True\n",
    "        \n",
    "        if ( curr_text == 0 ) or ( prev_text == 0) :\n",
    "            msg = False\n",
    "            return score, msg\n",
    "        else :\n",
    "            curr_words = get_words_from_string(curr_text)\n",
    "            prev_words = get_words_from_string(prev_text)\n",
    "\n",
    "            if len(prev_words ) ==0  or len(curr_words) == 0:\n",
    "                msg = False\n",
    "                return score, msg\n",
    "            else:\n",
    "                score =  - ( abs( (len(prev_words)*1.0) - (len( curr_words)*1.0) )/ len(prev_words)*1.0 )\n",
    "                msg = True\n",
    "                return score, msg\n",
    "def similarity_score_word_vec(curr_file, prev_file ):\n",
    "\n",
    "    curr_vec = np.load(curr_file+'.npy')\n",
    "    prev_vec = np.load(prev_file+'.npy')\n",
    "\n",
    "    if curr_vec.shape[0] == 0 or prev_vec.shape[0] == 0 :\n",
    "        return 0.0, False\n",
    "    \n",
    "    try :\n",
    "      score =  np.corrcoef(curr_vec.mean(axis=0), prev_vec.mean(axis=0))[0,1]\n",
    "      msg = True\n",
    "      return score, msg  \n",
    "    except :\n",
    "        print curr_file\n",
    "        print prev_file\n",
    "        print '----------'\n",
    "        return 0.0, False\n",
    "                        "
   ]
  },
  {
   "cell_type": "code",
   "execution_count": 88,
   "metadata": {
    "collapsed": true
   },
   "outputs": [],
   "source": [
    "def get_10k_sec_file(ticker, sec_dir, curr_year):\n",
    "    this_dir = '../data/10-K/' + ticker + '/' + sec_dir + '/'\n",
    "    file_names = os.listdir(this_dir)\n",
    "    file_names = [ i for i in file_names if not '.swp' in i]\n",
    "    file_names = [ i.split('.')[0] for i in file_names ]\n",
    "    \n",
    "    file_dates = [ dt.datetime.strptime(i, '%Y-%m-%d') for i in file_names ]\n",
    "    #file_dates = np.array(file_dates)\n",
    "    #sort_ind = file_dates.argsort()\n",
    "    \n",
    "    file_ind = [ i for i in range(len(file_names)) if (file_dates[i]).year == curr_year ]\n",
    "    \n",
    "    if len(file_ind) > 0:\n",
    "        return '../data/10-K/' + ticker + '/' + sec_dir + '/' + file_names[file_ind[0]], True\n",
    "\n",
    "    else :\n",
    "        return 0, False\n",
    "def similarity_score_10k_generic(ticker , sec_dir, score_func, curr_year = 2015 ):\n",
    "    prev_year = dt.datetime(curr_year, 1, 1).year - 1\n",
    "    curr_file, curr_file_msg = get_10k_sec_file(ticker, sec_dir, curr_year)\n",
    "    prev_file, prev_file_msg = get_10k_sec_file(ticker, sec_dir, prev_year)\n",
    "    \n",
    "    if ( curr_file_msg ) and ( prev_file_msg ):\n",
    "        score, score_msg = score_func(curr_file, prev_file)\n",
    "    else :\n",
    "        score, score_msg = 0.0, False\n",
    "    \n",
    "    return score, score_msg"
   ]
  },
  {
   "cell_type": "code",
   "execution_count": 97,
   "metadata": {},
   "outputs": [
    {
     "data": {
      "text/plain": [
       "(0.99998381758352062, True)"
      ]
     },
     "execution_count": 97,
     "metadata": {},
     "output_type": "execute_result"
    }
   ],
   "source": [
    "#get_10k_sec_file('GS', 'TEXT_VW', 2015)\n",
    "similarity_score_10k_generic('GS', 'TEXT_VW', similarity_score_word_vec, 2015)\n"
   ]
  },
  {
   "cell_type": "code",
   "execution_count": 83,
   "metadata": {},
   "outputs": [],
   "source": [
    "def long_short_quantile_weights( scores, quantile = 0.1 ):\n",
    "    weights = np.zeros(len(scores))\n",
    "    ind_true = [ i for i in range(len(scores)) if scores[i][1] ]\n",
    "    ind_false = [ i for i in range(len(scores)) if not scores[i][1] ]\n",
    "\n",
    "    scores_true = [ (scores[i][0], i) for i in ind_true ]\n",
    "    scores_true = sorted(scores_true, key=lambda l:l[0])\n",
    "    quantile_weights = np.zeros(len(scores_true))\n",
    "    q1_ind = range( int( len(quantile_weights)*quantile) )\n",
    "    quantile_weights[q1_ind] = -1.0/( len(q1_ind)*1.0 )\n",
    "    \n",
    "    q2_ind = range( -(int( len(quantile_weights)*quantile) ), 0 )\n",
    "    quantile_weights[q2_ind] = 1.0/( len(q2_ind)*1.0 )\n",
    "    \n",
    "    for  i, x in enumerate(scores_true) :\n",
    "        weights[x[1]] = quantile_weights[i]\n",
    "    \n",
    "    \n",
    "    return weights\n",
    "    #scores_mean = scores_true.mean(axis=0)[0]\n",
    "    #scores_std = \n",
    "    \n",
    "    \n",
    "def long_short_z_cs_weights( scores, quantile = 0.1 ):\n",
    "    weights = np.zeros(len(scores))\n",
    "    ind_true = [ i for i in range(len(scores)) if scores[i][1] ]\n",
    "    ind_false = [ i for i in range(len(scores)) if not scores[i][1] ]\n",
    "\n",
    "    scores_true = [ (scores[i][0], i) for i in ind_true ]\n",
    "    scores_true = sorted(scores_true, key=lambda l:l[0])\n",
    "    scores_true_np = np.array(scores_true)\n",
    "    \n",
    "    z_cs_weights = np.zeros(len(scores_true))\n",
    "    cs_m = scores_true_np.mean(axis=0)[0]\n",
    "    cs_std = scores_true_np.std(axis=0)[0]\n",
    "    z_cs_weights = [ (x[0] - cs_m)/cs_std for x in scores_true ]\n",
    "    \n",
    "    print np.array(z_cs_weights).shape\n",
    "    print cs_m, cs_std\n",
    "    \n",
    "    for  i, x in enumerate(scores_true) :\n",
    "        weights[x[1]] = z_cs_weights[i]\n",
    "    \n",
    "    \n",
    "    return weights\n",
    "\n",
    "\n",
    "def get_prices_df(tickers, begin_year, end_year):\n",
    "    df = pd.DataFrame()\n",
    "    \n",
    "    begin_date = dt.datetime(begin_year,1,1)\n",
    "    end_date = dt.datetime(end_year,12,30)\n",
    "\n",
    "    for tic in tickers:\n",
    "        p = web.DataReader(tic, 'yahoo', begin_date, end_date).Close\n",
    "        df[tic] = p\n",
    "    df.dropna(axis=0, how='any', thresh=None, subset=None, inplace=True)\n",
    "    return df \n",
    "\n",
    "def get_ticker_ret( ticker, year, horizon, df):\n",
    "    start_date = get_10k_sec_file(ticker, 'TEXT', year)[0]\n",
    "    start_date = start_date.split(\"/\")[-1]\n",
    "    start_date = dt.datetime.strptime(start_date, '%Y-%m-%d')\n",
    "    end_date = start_date + relativedelta(months=horizon)\n",
    "    \n",
    "    curr_price = (df[ticker]).iloc[df.index.get_loc(start_date,method='nearest')]\n",
    "    fut_price = (df[ticker]).iloc[df.index.get_loc(end_date,method='nearest')]\n",
    "    this_ret = ( fut_price - curr_price )/ curr_price\n",
    "      \n",
    "    return this_ret\n",
    "\n",
    "def run_strategy(tickers, begin_year, end_year, sec_dir, score_func, weights_func, horizon ):\n",
    "    years_range = []\n",
    "    begin_year_dt = dt.datetime(begin_year, 1, 1)\n",
    "    curr_year_dt = begin_year_dt\n",
    "    end_year_dt = dt.datetime(end_year, 12, 30)\n",
    "    \n",
    "    df = get_prices_df(tickers, ( begin_year_dt + relativedelta(years=-2) ).year, ( end_year_dt + relativedelta(years=2) ).year)\n",
    "    pnl_vec = [] \n",
    "    while curr_year_dt <= end_year_dt:\n",
    "        years_range.append(curr_year_dt.year)\n",
    "        curr_year_dt = curr_year_dt +relativedelta(years=1)\n",
    "\n",
    "   \n",
    "    for curr_year in years_range:\n",
    "        f = lambda(tic) : similarity_score_10k_generic(tic , sec_dir, score_func, curr_year  )\n",
    "        scores = [f(tic) for tic in tickers ]\n",
    "        weights = weights_func(scores)\n",
    "        ret_vec = np.zeros(len(scores))\n",
    "\n",
    "        for i, x in enumerate(scores):\n",
    "            if x[1] :\n",
    "                r = get_ticker_ret(tickers[i],curr_year, horizon, df)\n",
    "                ret_vec[i] = r\n",
    "        \n",
    "        curr_pnl =    np.dot(weights, ret_vec)\n",
    "        pnl_vec.append(curr_pnl)\n",
    "   \n",
    "    return pnl_vec"
   ]
  },
  {
   "cell_type": "code",
   "execution_count": 109,
   "metadata": {},
   "outputs": [],
   "source": [
    "#tickers = next(os.walk('../data/10-K/'))[1]\n",
    "#pnl_vec = run_strategy(tickers, 2005, 2015, 'TEXT', similarity_score_word_count, long_short_quantile_weights, 12 )\n"
   ]
  },
  {
   "cell_type": "code",
   "execution_count": 126,
   "metadata": {},
   "outputs": [
    {
     "name": "stdout",
     "output_type": "stream",
     "text": [
      "(28,)\n",
      "-0.277963915668 0.475778258262\n",
      "(28,)\n",
      "-1.1300506757 4.87295079923\n",
      "(28,)\n",
      "-0.181194751034 0.379693681929\n",
      "(28,)\n",
      "-2.56743548107 9.0715809296\n",
      "(28,)\n",
      "-0.351466561031 0.980593484696\n",
      "(28,)\n",
      "-0.223386316419 0.686322857122\n",
      "(27,)\n",
      "-0.178587280372 0.397825947388\n",
      "(27,)\n",
      "-0.717135683771 2.73361114702\n",
      "(27,)\n",
      "-6.55093248573 33.1542798026\n",
      "(27,)\n",
      "-41.4353023696 211.079670976\n"
     ]
    }
   ],
   "source": [
    "tickers = next(os.walk('../data/10-K/'))[1]\n",
    "pnl_vec_zcs = run_strategy(tickers, 2005, 2014, 'TEXT', similarity_score_word_count, long_short_z_cs_weights, 12 )\n"
   ]
  },
  {
   "cell_type": "code",
   "execution_count": 110,
   "metadata": {},
   "outputs": [],
   "source": [
    "#tickers = next(os.walk('../data/10-K/'))[1]\n",
    "#pnl_vec_zcs_vw = run_strategy(tickers, 2005, 2015, 'TEXT_VW', similarity_score_word_vec, long_short_z_cs_weights, 12 )\n"
   ]
  },
  {
   "cell_type": "code",
   "execution_count": 130,
   "metadata": {},
   "outputs": [
    {
     "data": {
      "text/plain": [
       "-0.1727997189366654"
      ]
     },
     "execution_count": 130,
     "metadata": {},
     "output_type": "execute_result"
    }
   ],
   "source": [
    "np.array(pnl_vec_zcs).mean()/np.array(pnl_vec_zcs).std()"
   ]
  },
  {
   "cell_type": "code",
   "execution_count": 112,
   "metadata": {
    "collapsed": true
   },
   "outputs": [],
   "source": [
    "def get_10_k_all(ticker = \"GS\", start_date = dt.datetime(2005,1,1),final_date = dt.datetime(2014,12,31) ):\n",
    "    this_dir =  \"../data/10-K/\" + ticker+\"/TEXT/\"\n",
    "    file_names = os.listdir(this_dir)\n",
    "    file_names = [ i for i in file_names if not '.swp' in i]\n",
    "    content_dict = {}\n",
    "    for i in file_names: \n",
    "        f = open(this_dir+i)\n",
    "        f_d = dt.datetime.strptime(i, '%Y-%m-%d')\n",
    "        if ( f_d < final_date ) and ( f_d > start_date ) :\n",
    "             content = f.readlines()\n",
    "             content_dict[f_d] = content\n",
    "  \n",
    "    return content_dict\n",
    "\n",
    "\n",
    "\n",
    "    \n"
   ]
  },
  {
   "cell_type": "code",
   "execution_count": 131,
   "metadata": {
    "collapsed": true
   },
   "outputs": [],
   "source": [
    "def get_ticker_signal_ret(ticker = 'GS', time_horizon = 12 ):\n",
    "\n",
    "    data_dic = get_10_k_all(ticker) \n",
    "    f_dates = data_dic.keys()    \n",
    "    f_dates.sort()\n",
    "    \n",
    "    last_text = data_dic[f_dates[0]]\n",
    "    signal_vec = []\n",
    "    \n",
    "    start = f_dates[1]\n",
    "    end = f_dates[-1] +  relativedelta(months = time_horizon)\n",
    "    end = min( end, dt.datetime.today() + relativedelta(days = -3))\n",
    "    price_data = web.DataReader(ticker, 'yahoo', start, end)\n",
    "    ret_vec = []\n",
    "    \n",
    "    for i in range(1, len(f_dates)):\n",
    "        f_d = f_dates[i]\n",
    "            \n",
    "        fut_date = f_d + relativedelta(months = time_horizon)\n",
    "        this_text = data_dic[f_d]\n",
    "        words_diff = abs( len(this_text) - len(last_text) )/( len(last_text) *1.0)\n",
    "        signal_vec.append(words_diff)\n",
    "        curr_price = price_data.iloc[price_data.index.get_loc(f_d,method='nearest')].Open\n",
    "        fut_price = price_data.iloc[price_data.index.get_loc(fut_date,method='nearest')].Open\n",
    "        this_ret = ( fut_price - curr_price )/ curr_price\n",
    "        ret_vec.append(this_ret)\n",
    "    \n",
    "    this_data = {\"signal\":signal_vec, \"ret\":ret_vec}\n",
    "    return this_data\n",
    "\n",
    "def get_all_tickers_signal_ret(time_horizon = 12):\n",
    "    tickers = next(os.walk('../data/10-K/'))[1]\n",
    "    \n",
    "    signals_df = pd.DataFrame()\n",
    "    ret_df = pd.DataFrame()\n",
    "\n",
    "    tic = tickers[0]\n",
    "    this_data = get_ticker_signal_ret(ticker=tic,time_horizon = time_horizon)\n",
    "    signals_df[tic] = this_data['signal']\n",
    "    ret_df[tic] = this_data['ret']\n",
    "    \n",
    "    for tic in tickers[1:]:\n",
    "        this_data = get_ticker_signal_ret(ticker=tic,time_horizon = time_horizon)\n",
    "        if signals_df.shape[0] == len(this_data['signal']):\n",
    "            signals_df[tic] = this_data['signal']\n",
    "            ret_df[tic] = this_data['ret']\n",
    "\n",
    "    return {'signal': signals_df, 'ret':ret_df}\n",
    "\n",
    "        \n",
    "def get_ticker_cor( ticker = 'GS', time_horizon = 12):\n",
    "    data_dic = get_10_k_all(ticker) \n",
    "    f_dates = data_dic.keys()    \n",
    "    f_dates.sort()\n",
    "    \n",
    "    last_text = data_dic[f_dates[0]]\n",
    "    signal_vec = []\n",
    "    \n",
    "    start = f_dates[1]\n",
    "    end = f_dates[-1] +  relativedelta(months = time_horizon)\n",
    "    end = min( end, dt.datetime.today() + relativedelta(days = -3))\n",
    "    price_data = web.DataReader(ticker, 'yahoo', start, end)\n",
    "    ret_vec = []\n",
    "    \n",
    "    for i in range(1, len(f_dates)):\n",
    "        f_d = f_dates[i]\n",
    "        fut_date = f_d + relativedelta(months = time_horizon)\n",
    "        this_text = data_dic[f_d]\n",
    "        words_diff = abs( len(this_text) - len(last_text) )\n",
    "        last_text = this_text\n",
    "        signal_vec.append(words_diff)\n",
    "        curr_price = price_data.iloc[price_data.index.get_loc(f_d,method='nearest')].Open\n",
    "        fut_price = price_data.iloc[price_data.index.get_loc(fut_date,method='nearest')].Open\n",
    "        this_ret = ( fut_price - curr_price )/ curr_price\n",
    "        ret_vec.append(this_ret)\n",
    "    \n",
    "    cor = np.corrcoef(signal_vec,ret_vec)[0][1]\n",
    "    return cor"
   ]
  },
  {
   "cell_type": "code",
   "execution_count": 132,
   "metadata": {
    "collapsed": true
   },
   "outputs": [],
   "source": [
    "\n",
    "tickers = next(os.walk('../data/10-K/'))[1]"
   ]
  },
  {
   "cell_type": "code",
   "execution_count": 115,
   "metadata": {
    "collapsed": true
   },
   "outputs": [],
   "source": [
    "#tickers = [ 'AAPL', 'AMZN', 'GS', 'INTC', 'JPM', 'MS', 'MSFT', 'NVDA']\n",
    "cor_vec = []\n",
    "for tic in tickers:\n",
    "     this_cor = get_ticker_cor(tic)\n",
    "     cor_vec.append(this_cor)   \n"
   ]
  },
  {
   "cell_type": "code",
   "execution_count": 116,
   "metadata": {
    "collapsed": true
   },
   "outputs": [],
   "source": [
    "cor_df = pd.DataFrame()\n",
    "cor_df['ticker']  = tickers\n",
    "cor_df['correlation'] = cor_vec"
   ]
  },
  {
   "cell_type": "code",
   "execution_count": 138,
   "metadata": {
    "collapsed": true
   },
   "outputs": [],
   "source": [
    "df = get_all_tickers_signal_ret()\n"
   ]
  },
  {
   "cell_type": "code",
   "execution_count": 133,
   "metadata": {
    "collapsed": true
   },
   "outputs": [],
   "source": [
    "def test_long_short_0 (data):\n",
    "    rd.seed(12345)\n",
    "\n",
    "    signals = data['signal']\n",
    "    ret = data['ret']\n",
    "    pnl_series = [1.0]\n",
    "    curr_pnl = 1.0\n",
    "    ret_series = []\n",
    "    \n",
    "    for i in range(signals.shape[0]):\n",
    "        curr_signal = signals.iloc[i,]\n",
    "        weights = np.zeros(signals.shape[1])\n",
    "        ind = rd.sample(range(signals.shape[1]), 10)\n",
    "        weights[ind[-5:]] = 1.0\n",
    "        weights[ind[0:5]] = -1.0\n",
    "\n",
    "        curr_ret = sum( ret.iloc[i,]*weights )\n",
    "        ret_series.append(curr_ret)\n",
    "        curr_pnl = curr_pnl+ curr_ret\n",
    "        pnl_series.append(curr_pnl)\n",
    "        \n",
    "    return pnl_series, ret_series    \n",
    "\n",
    "def test_long_short_1 (data):\n",
    "    signals = data['signal']\n",
    "    ret = data['ret']\n",
    "    pnl_series = [1.0]\n",
    "    curr_pnl = 1.0\n",
    "    ret_series = []\n",
    "    \n",
    "    for i in range(signals.shape[0]):\n",
    "        curr_signal = signals.iloc[i,]\n",
    "        ind = curr_signal.argsort()\n",
    "        weights = np.zeros(len(ind))\n",
    "        weights[ind[-5:]] = -1.0\n",
    "        weights[ind[0:5]] = 1.0\n",
    "\n",
    "        curr_ret = sum( ret.iloc[i,]*weights )\n",
    "        ret_series.append(curr_ret)\n",
    "        curr_pnl = curr_pnl+ curr_ret\n",
    "        pnl_series.append(curr_pnl)\n",
    "        \n",
    "    return pnl_series, ret_series    \n",
    "\n",
    "def test_long_short_2 (data):\n",
    "    signals = data['signal']\n",
    "    ret = data['ret']\n",
    "    pnl_series = [1.0]\n",
    "    curr_pnl = 1.0\n",
    "    ret_series = []\n",
    "    \n",
    "    for i in range(signals.shape[0]):\n",
    "        curr_signal = signals.iloc[i,]\n",
    "        z_scores = ( curr_signal - curr_signal.mean() ) / curr_signal.std()\n",
    "        weights = -z_scores\n",
    "\n",
    "        curr_ret = sum( ret.iloc[i,]*weights )\n",
    "        ret_series.append( curr_ret )\n",
    "        curr_pnl = curr_pnl + ( curr_ret)\n",
    "        pnl_series.append(curr_pnl)\n",
    "        \n",
    "    return pnl_series, ret_series    \n"
   ]
  },
  {
   "cell_type": "markdown",
   "metadata": {},
   "source": [
    "### Long Short Portfolio using quantile approach"
   ]
  },
  {
   "cell_type": "code",
   "execution_count": 139,
   "metadata": {
    "collapsed": true
   },
   "outputs": [],
   "source": [
    "dates = [dt.datetime(2004,1,1) + relativedelta(years=i) for i in range(10) ]"
   ]
  },
  {
   "cell_type": "code",
   "execution_count": 140,
   "metadata": {},
   "outputs": [
    {
     "name": "stdout",
     "output_type": "stream",
     "text": [
      "sharpe ratio = -0.578540737147\n"
     ]
    }
   ],
   "source": [
    "\n",
    "pnl_series_1, ret_series_1 = test_long_short_0(df)\n",
    "mean_ret = np.mean(ret_series_1)\n",
    "std_ret = np.std(ret_series_1)\n",
    "sharpe_ratio = mean_ret/std_ret\n",
    "print 'sharpe ratio = ' + str(sharpe_ratio)"
   ]
  },
  {
   "cell_type": "code",
   "execution_count": 141,
   "metadata": {},
   "outputs": [
    {
     "data": {
      "text/plain": [
       "<matplotlib.text.Text at 0x112579310>"
      ]
     },
     "execution_count": 141,
     "metadata": {},
     "output_type": "execute_result"
    },
    {
     "data": {
      "image/png": "[encoded data removed]",
      "text/plain": [
       "<matplotlib.figure.Figure at 0x112354410>"
      ]
     },
     "metadata": {},
     "output_type": "display_data"
    }
   ],
   "source": [
    "plot(dates, pnl_series_1)\n",
    "pylab.xlabel('time')\n",
    "pylab.ylabel('cumulative pnl')\n",
    "pylab.title('random portfolio allocation')"
   ]
  },
  {
   "cell_type": "code",
   "execution_count": 142,
   "metadata": {},
   "outputs": [
    {
     "name": "stdout",
     "output_type": "stream",
     "text": [
      "sharpe ratio = 0.0184817396542\n"
     ]
    }
   ],
   "source": [
    "\n",
    "pnl_series_1, ret_series_1 = test_long_short_1(df)\n",
    "mean_ret = np.mean(ret_series_1)\n",
    "std_ret = np.std(ret_series_1)\n",
    "sharpe_ratio = mean_ret/std_ret\n",
    "print 'sharpe ratio = ' + str(sharpe_ratio)\n"
   ]
  },
  {
   "cell_type": "code",
   "execution_count": 143,
   "metadata": {},
   "outputs": [
    {
     "data": {
      "text/plain": [
       "<matplotlib.text.Text at 0x112135a50>"
      ]
     },
     "execution_count": 143,
     "metadata": {},
     "output_type": "execute_result"
    },
    {
     "data": {
      "image/png": "[encoded data removed]",
      "text/plain": [
       "<matplotlib.figure.Figure at 0x111dd3550>"
      ]
     },
     "metadata": {},
     "output_type": "display_data"
    }
   ],
   "source": [
    "plot(dates, pnl_series_1)\n",
    "pylab.xlabel('time')\n",
    "pylab.ylabel('cumulative pnl')\n",
    "pylab.title('quantile portfolio allocation')"
   ]
  },
  {
   "cell_type": "markdown",
   "metadata": {},
   "source": [
    "### Long Short portfolio using alpha forcast approch"
   ]
  },
  {
   "cell_type": "code",
   "execution_count": 144,
   "metadata": {},
   "outputs": [
    {
     "name": "stdout",
     "output_type": "stream",
     "text": [
      "sharpe ratio = 0.342457454577\n"
     ]
    }
   ],
   "source": [
    "pnl_series_1, ret_series_1 = test_long_short_2(df)\n",
    "mean_ret = np.mean(ret_series_1)\n",
    "std_ret = np.std(ret_series_1)\n",
    "sharpe_ratio = mean_ret/std_ret\n",
    "print 'sharpe ratio = ' + str(sharpe_ratio)\n",
    "\n"
   ]
  },
  {
   "cell_type": "code",
   "execution_count": 145,
   "metadata": {},
   "outputs": [
    {
     "data": {
      "text/plain": [
       "<matplotlib.text.Text at 0x112612f50>"
      ]
     },
     "execution_count": 145,
     "metadata": {},
     "output_type": "execute_result"
    },
    {
     "data": {
      "image/png": "[encoded data removed]",
      "text/plain": [
       "<matplotlib.figure.Figure at 0x1124ff510>"
      ]
     },
     "metadata": {},
     "output_type": "display_data"
    }
   ],
   "source": [
    "plot(dates,pnl_series_1)\n",
    "pylab.xlabel('time')\n",
    "pylab.ylabel('cumulative pnl')\n",
    "pylab.title('optimal portfolio allocation')"
   ]
  },
  {
   "cell_type": "code",
   "execution_count": null,
   "metadata": {
    "collapsed": true
   },
   "outputs": [],
   "source": [
    "import random\n",
    "random.seed(10)\n",
    "random.sample(range(signals.shape[1]), 10)"
   ]
  },
  {
   "cell_type": "code",
   "execution_count": null,
   "metadata": {
    "collapsed": true
   },
   "outputs": [],
   "source": []
  },
  {
   "cell_type": "code",
   "execution_count": null,
   "metadata": {
    "collapsed": true
   },
   "outputs": [],
   "source": []
  },
  {
   "cell_type": "code",
   "execution_count": null,
   "metadata": {
    "collapsed": true
   },
   "outputs": [],
   "source": []
  },
  {
   "cell_type": "code",
   "execution_count": null,
   "metadata": {
    "collapsed": true
   },
   "outputs": [],
   "source": []
  },
  {
   "cell_type": "code",
   "execution_count": null,
   "metadata": {
    "collapsed": true
   },
   "outputs": [],
   "source": []
  },
  {
   "cell_type": "code",
   "execution_count": null,
   "metadata": {
    "collapsed": true
   },
   "outputs": [],
   "source": []
  }
 ],
 "metadata": {
  "kernelspec": {
   "display_name": "Python 2",
   "language": "python",
   "name": "python2"
  },
  "language_info": {
   "codemirror_mode": {
    "name": "ipython",
    "version": 2
   },
   "file_extension": ".py",
   "mimetype": "text/x-python",
   "name": "python",
   "nbconvert_exporter": "python",
   "pygments_lexer": "ipython2",
   "version": "2.7.13"
  }
 },
 "nbformat": 4,
 "nbformat_minor": 2
}
