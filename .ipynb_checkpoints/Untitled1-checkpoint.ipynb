{
 "cells": [
  {
   "cell_type": "code",
   "execution_count": 17,
   "metadata": {
    "collapsed": true
   },
   "outputs": [],
   "source": [
    "execfile('./strategy_runner.py')\n",
    "execfile('./parser/score_func.py')"
   ]
  },
  {
   "cell_type": "code",
   "execution_count": 18,
   "metadata": {
    "collapsed": true
   },
   "outputs": [],
   "source": [
    "tickers = next(os.walk('../data/10-K/'))[1]"
   ]
  },
  {
   "cell_type": "code",
   "execution_count": 19,
   "metadata": {
    "collapsed": true
   },
   "outputs": [],
   "source": [
    "begin_date = dt.date(2005,1,1)\n",
    "end_date = dt.date(2016,1,1)\n"
   ]
  },
  {
   "cell_type": "code",
   "execution_count": 20,
   "metadata": {
    "collapsed": true
   },
   "outputs": [],
   "source": [
    "runner = StrategyRunner(tickers, begin_date, end_date)"
   ]
  },
  {
   "cell_type": "code",
   "execution_count": 28,
   "metadata": {
    "collapsed": true
   },
   "outputs": [],
   "source": [
    "f_wc_d = lambda x,y: similarity_score_word_count(x,y, False)\n",
    "f_wc_r = lambda x,y: similarity_score_word_count(x,y, True )\n",
    "f_wv_mse = lambda x,y: similarity_score_word_vec(x,y, 'mse' )\n",
    "f_wv_corr = lambda x,y: similarity_score_word_vec(x,y, 'corr' )"
   ]
  },
  {
   "cell_type": "code",
   "execution_count": 22,
   "metadata": {
    "collapsed": true
   },
   "outputs": [],
   "source": [
    "horizon = 12\n",
    "lag = 6\n",
    "opt_type_1 = 'quantile'\n",
    "opt_type_2 = 'z_score'"
   ]
  },
  {
   "cell_type": "code",
   "execution_count": 23,
   "metadata": {},
   "outputs": [
    {
     "name": "stdout",
     "output_type": "stream",
     "text": [
      "-0.0137723776667\n"
     ]
    }
   ],
   "source": [
    "#running strattegy with TEXt and quantile weights and horizon 12 lag 0 ( f = word diff )\n",
    "horizon = 12\n",
    "lag = 6\n",
    "pnl_vec = runner.run(horizon=horizon,lag=lag, opt_type=opt_type_1,score_func=f_wc_d, sec='TEXT')\n",
    "pnl_vec = np.array(pnl_vec)*12.0/horizon\n",
    "sr = pnl_vec.mean()/pnl_vec.std()\n",
    "print sr\n"
   ]
  },
  {
   "cell_type": "code",
   "execution_count": 24,
   "metadata": {},
   "outputs": [
    {
     "name": "stdout",
     "output_type": "stream",
     "text": [
      "0.430101855061\n"
     ]
    }
   ],
   "source": [
    "#running strattegy with TEXt and z_score weights and horizon 12 lag 0\n",
    "horizon = 12\n",
    "lag = 6\n",
    "pnl_vec = runner.run(horizon=horizon,lag=lag, opt_type=opt_type_2,score_func=f_wc_d, sec='TEXT')\n",
    "pnl_vec = np.array(pnl_vec)*12.0/horizon\n",
    "sr = pnl_vec.mean()/pnl_vec.std()\n",
    "print sr\n"
   ]
  },
  {
   "cell_type": "code",
   "execution_count": 26,
   "metadata": {},
   "outputs": [
    {
     "name": "stdout",
     "output_type": "stream",
     "text": [
      "0.486250741027\n"
     ]
    }
   ],
   "source": [
    "#running strattegy with TEXT and z_score weights and horizon 12 lag 0 ( f = word diff ret)\n",
    "horizon = 12\n",
    "lag = 6\n",
    "pnl_vec = runner.run(horizon=horizon,lag=lag, opt_type=opt_type_2,score_func=f_wc_r, sec='TEXT')\n",
    "pnl_vec = np.array(pnl_vec)*12.0/horizon\n",
    "sr = pnl_vec.mean()/pnl_vec.std()\n",
    "print sr\n"
   ]
  },
  {
   "cell_type": "code",
   "execution_count": 27,
   "metadata": {},
   "outputs": [
    {
     "name": "stdout",
     "output_type": "stream",
     "text": [
      "-0.190591352378\n"
     ]
    }
   ],
   "source": [
    "#running strattegy with TEXT VW and z_score weights and horizon 12 lag 0 ( f = mse )\n",
    "horizon = 12\n",
    "lag = 6\n",
    "pnl_vec = runner.run(horizon=horizon,lag=lag, opt_type=opt_type_2,score_func=f_wv_mse, sec='TEXT_VW')\n",
    "pnl_vec = np.array(pnl_vec)*12.0/horizon\n",
    "sr = pnl_vec.mean()/pnl_vec.std()\n",
    "print sr"
   ]
  },
  {
   "cell_type": "code",
   "execution_count": 30,
   "metadata": {},
   "outputs": [
    {
     "name": "stdout",
     "output_type": "stream",
     "text": [
      "-0.00478529878651\n"
     ]
    }
   ],
   "source": [
    "#running strattegy with TEXT VW and quantile weights and horizon 12 lag 0 ( f = corr )\n",
    "horizon = 12\n",
    "lag = 6\n",
    "pnl_vec = runner.run(horizon=horizon,lag=lag, opt_type=opt_type_1,score_func=f_wv_corr, sec='TEXT_VW')\n",
    "pnl_vec = np.array(pnl_vec)*12.0/horizon\n",
    "sr = pnl_vec.mean()/pnl_vec.std()\n",
    "print sr"
   ]
  },
  {
   "cell_type": "code",
   "execution_count": 48,
   "metadata": {},
   "outputs": [
    {
     "name": "stdout",
     "output_type": "stream",
     "text": [
      "0.00352774385813\n"
     ]
    },
    {
     "name": "stderr",
     "output_type": "stream",
     "text": [
      "/Users/raghuramkowdeed/anaconda/lib/python2.7/site-packages/ipykernel_launcher.py:16: RuntimeWarning: invalid value encountered in double_scalars\n",
      "  app.launch_new_instance()\n"
     ]
    }
   ],
   "source": [
    "#running strattegy with MDA VW and z_score weights and horizon 12 lag 0 ( f = corr )\n",
    "horizon = 12\n",
    "lag = 6\n",
    "pnl_vec = runner.run(horizon=horizon,lag=lag, opt_type=opt_type_1,score_func=f_wc_r, sec='S_1A')\n",
    "#pnl_vec = np.array(pnl_vec)*12.0/horizon\n",
    "#sr = pnl_vec.mean()/pnl_vec.std()\n",
    "#print sr"
   ]
  },
  {
   "cell_type": "code",
   "execution_count": null,
   "metadata": {
    "collapsed": true
   },
   "outputs": [],
   "source": []
  }
 ],
 "metadata": {
  "kernelspec": {
   "display_name": "Python 2",
   "language": "python",
   "name": "python2"
  },
  "language_info": {
   "codemirror_mode": {
    "name": "ipython",
    "version": 2
   },
   "file_extension": ".py",
   "mimetype": "text/x-python",
   "name": "python",
   "nbconvert_exporter": "python",
   "pygments_lexer": "ipython2",
   "version": "2.7.13"
  }
 },
 "nbformat": 4,
 "nbformat_minor": 2
}
