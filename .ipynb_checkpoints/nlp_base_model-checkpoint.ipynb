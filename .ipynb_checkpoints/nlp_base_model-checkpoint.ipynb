{
 "cells": [
  {
   "cell_type": "code",
   "execution_count": 50,
   "metadata": {},
   "outputs": [
    {
     "name": "stdout",
     "output_type": "stream",
     "text": [
      "Populating the interactive namespace from numpy and matplotlib\n"
     ]
    }
   ],
   "source": [
    "import os as os\n",
    "from dateutil.relativedelta import relativedelta, TH\n",
    "import pandas_datareader.data as web\n",
    "import datetime    \n",
    "import pandas as pd\n",
    "import numpy as np\n",
    "import random as rd\n",
    "\n",
    "\n",
    "%pylab inline\n",
    "\n",
    "execfile(\"./parser/sec_crawler.py\")"
   ]
  },
  {
   "cell_type": "code",
   "execution_count": null,
   "metadata": {
    "collapsed": true
   },
   "outputs": [],
   "source": []
  },
  {
   "cell_type": "code",
   "execution_count": 40,
   "metadata": {
    "collapsed": true
   },
   "outputs": [],
   "source": [
    "#!cd \"/Users/raghuramkowdeed/Documents/git/nlp/\"\n",
    "\n"
   ]
  },
  {
   "cell_type": "code",
   "execution_count": 41,
   "metadata": {},
   "outputs": [],
   "source": [
    "def get_10_k_all(ticker = \"GS\", start_date = dt.datetime(2005,1,1),final_date = dt.datetime(2014,12,31) ):\n",
    "    this_dir =  \"./data/10-K/\" + ticker+\"/TEXT/\"\n",
    "    file_names = os.listdir(this_dir)\n",
    "    file_names = [ i for i in file_names if not '.swp' in i]\n",
    "    content_dict = {}\n",
    "    for i in file_names: \n",
    "        f = open(this_dir+i)\n",
    "        f_d = dt.datetime.strptime(i, '%Y-%m-%d')\n",
    "        if ( f_d < final_date ) and ( f_d > start_date ) :\n",
    "             content = f.readlines()\n",
    "             content_dict[f_d] = content\n",
    "  \n",
    "    return content_dict\n",
    "\n",
    "\n",
    "\n",
    "    \n"
   ]
  },
  {
   "cell_type": "code",
   "execution_count": 51,
   "metadata": {},
   "outputs": [],
   "source": [
    "def get_ticker_signal_ret(ticker = 'GS', time_horizon = 12 ):\n",
    "\n",
    "    data_dic = get_10_k_all(ticker) \n",
    "    f_dates = data_dic.keys()    \n",
    "    f_dates.sort()\n",
    "    \n",
    "    last_text = data_dic[f_dates[0]]\n",
    "    signal_vec = []\n",
    "    \n",
    "    start = f_dates[1]\n",
    "    end = f_dates[-1] +  relativedelta(months = time_horizon)\n",
    "    end = min( end, dt.datetime.today() + relativedelta(days = -3))\n",
    "    price_data = web.DataReader(ticker, 'yahoo', start, end)\n",
    "    ret_vec = []\n",
    "    \n",
    "    for i in range(1, len(f_dates)):\n",
    "        f_d = f_dates[i]\n",
    "            \n",
    "        fut_date = f_d + relativedelta(months = time_horizon)\n",
    "        this_text = data_dic[f_d]\n",
    "        words_diff = abs( len(this_text) - len(last_text) )/( len(last_text) *1.0)\n",
    "        signal_vec.append(words_diff)\n",
    "        curr_price = price_data.iloc[price_data.index.get_loc(f_d,method='nearest')].Open\n",
    "        fut_price = price_data.iloc[price_data.index.get_loc(fut_date,method='nearest')].Open\n",
    "        this_ret = ( fut_price - curr_price )/ curr_price\n",
    "        ret_vec.append(this_ret)\n",
    "    \n",
    "    this_data = {\"signal\":signal_vec, \"ret\":ret_vec}\n",
    "    return this_data\n",
    "\n",
    "def get_all_tickers_signal_ret(time_horizon = 12):\n",
    "    tickers = next(os.walk('./data/10-K/'))[1]\n",
    "    \n",
    "    signals_df = pd.DataFrame()\n",
    "    ret_df = pd.DataFrame()\n",
    "\n",
    "    tic = tickers[0]\n",
    "    this_data = get_ticker_signal_ret(ticker=tic,time_horizon = time_horizon)\n",
    "    signals_df[tic] = this_data['signal']\n",
    "    ret_df[tic] = this_data['ret']\n",
    "    \n",
    "    for tic in tickers[1:]:\n",
    "        this_data = get_ticker_signal_ret(ticker=tic,time_horizon = time_horizon)\n",
    "        if signals_df.shape[0] == len(this_data['signal']):\n",
    "            signals_df[tic] = this_data['signal']\n",
    "            ret_df[tic] = this_data['ret']\n",
    "\n",
    "    return {'signal': signals_df, 'ret':ret_df}\n",
    "\n",
    "        \n",
    "def get_ticker_cor( ticker = 'GS', time_horizon = 12):\n",
    "    data_dic = get_10_k_all(ticker) \n",
    "    f_dates = data_dic.keys()    \n",
    "    f_dates.sort()\n",
    "    \n",
    "    last_text = data_dic[f_dates[0]]\n",
    "    signal_vec = []\n",
    "    \n",
    "    start = f_dates[1]\n",
    "    end = f_dates[-1] +  relativedelta(months = time_horizon)\n",
    "    end = min( end, dt.datetime.today() + relativedelta(days = -3))\n",
    "    price_data = web.DataReader(ticker, 'yahoo', start, end)\n",
    "    ret_vec = []\n",
    "    \n",
    "    for i in range(1, len(f_dates)):\n",
    "        f_d = f_dates[i]\n",
    "        fut_date = f_d + relativedelta(months = time_horizon)\n",
    "        this_text = data_dic[f_d]\n",
    "        words_diff = abs( len(this_text) - len(last_text) )\n",
    "        signal_vec.append(words_diff)\n",
    "        curr_price = price_data.iloc[price_data.index.get_loc(f_d,method='nearest')].Open\n",
    "        fut_price = price_data.iloc[price_data.index.get_loc(fut_date,method='nearest')].Open\n",
    "        this_ret = ( fut_price - curr_price )/ curr_price\n",
    "        ret_vec.append(this_ret)\n",
    "    \n",
    "    cor = np.corrcoef(signal_vec,ret_vec)[0][1]\n",
    "    return cor"
   ]
  },
  {
   "cell_type": "code",
   "execution_count": 43,
   "metadata": {
    "collapsed": true
   },
   "outputs": [],
   "source": [
    "\n",
    "tickers = next(os.walk('./data/10-K/'))[1]"
   ]
  },
  {
   "cell_type": "code",
   "execution_count": 44,
   "metadata": {
    "collapsed": true
   },
   "outputs": [],
   "source": [
    "#tickers = [ 'AAPL', 'AMZN', 'GS', 'INTC', 'JPM', 'MS', 'MSFT', 'NVDA']\n",
    "cor_vec = []\n",
    "for tic in tickers:\n",
    "     this_cor = get_ticker_cor(tic)\n",
    "     cor_vec.append(this_cor)   \n"
   ]
  },
  {
   "cell_type": "code",
   "execution_count": 45,
   "metadata": {
    "collapsed": true
   },
   "outputs": [],
   "source": [
    "cor_df = pd.DataFrame()\n",
    "cor_df['ticker']  = tickers\n",
    "cor_df['correlation'] = cor_vec"
   ]
  },
  {
   "cell_type": "code",
   "execution_count": 46,
   "metadata": {},
   "outputs": [],
   "source": [
    "df = get_all_tickers_signal_ret()\n"
   ]
  },
  {
   "cell_type": "code",
   "execution_count": 63,
   "metadata": {
    "collapsed": true
   },
   "outputs": [],
   "source": [
    "def test_long_short_0 (data):\n",
    "    rd.seed(12345)\n",
    "\n",
    "    signals = data['signal']\n",
    "    ret = data['ret']\n",
    "    pnl_series = [1.0]\n",
    "    curr_pnl = 1.0\n",
    "    ret_series = []\n",
    "    \n",
    "    for i in range(signals.shape[0]):\n",
    "        curr_signal = signals.iloc[i,]\n",
    "        weights = np.zeros(signals.shape[1])\n",
    "        ind = rd.sample(range(signals.shape[1]), 10)\n",
    "        weights[ind[-5:]] = 1.0\n",
    "        weights[ind[0:5]] = -1.0\n",
    "\n",
    "        curr_ret = sum( ret.iloc[i,]*weights )\n",
    "        ret_series.append(curr_ret)\n",
    "        curr_pnl = curr_pnl+ curr_ret\n",
    "        pnl_series.append(curr_pnl)\n",
    "        \n",
    "    return pnl_series, ret_series    \n",
    "\n",
    "def test_long_short_1 (data):\n",
    "    signals = data['signal']\n",
    "    ret = data['ret']\n",
    "    pnl_series = [1.0]\n",
    "    curr_pnl = 1.0\n",
    "    ret_series = []\n",
    "    \n",
    "    for i in range(signals.shape[0]):\n",
    "        curr_signal = signals.iloc[i,]\n",
    "        ind = curr_signal.argsort()\n",
    "        weights = np.zeros(len(ind))\n",
    "        weights[ind[-5:]] = -1.0\n",
    "        weights[ind[0:5]] = 1.0\n",
    "\n",
    "        curr_ret = sum( ret.iloc[i,]*weights )\n",
    "        ret_series.append(curr_ret)\n",
    "        curr_pnl = curr_pnl+ curr_ret\n",
    "        pnl_series.append(curr_pnl)\n",
    "        \n",
    "    return pnl_series, ret_series    \n",
    "\n",
    "def test_long_short_2 (data):\n",
    "    signals = data['signal']\n",
    "    ret = data['ret']\n",
    "    pnl_series = [1.0]\n",
    "    curr_pnl = 1.0\n",
    "    ret_series = []\n",
    "    \n",
    "    for i in range(signals.shape[0]):\n",
    "        curr_signal = signals.iloc[i,]\n",
    "        z_scores = ( curr_signal - curr_signal.mean() ) / curr_signal.std()\n",
    "        weights = -z_scores\n",
    "\n",
    "        curr_ret = sum( ret.iloc[i,]*weights )\n",
    "        ret_series.append( curr_ret )\n",
    "        curr_pnl = curr_pnl + ( curr_ret)\n",
    "        pnl_series.append(curr_pnl)\n",
    "        \n",
    "    return pnl_series, ret_series    \n"
   ]
  },
  {
   "cell_type": "markdown",
   "metadata": {},
   "source": [
    "### Long Short Portfolio using quantile approach"
   ]
  },
  {
   "cell_type": "code",
   "execution_count": 56,
   "metadata": {
    "collapsed": true
   },
   "outputs": [],
   "source": [
    "dates = [dt.datetime(2004,1,1) + relativedelta(years=i) for i in range(10) ]"
   ]
  },
  {
   "cell_type": "code",
   "execution_count": 64,
   "metadata": {},
   "outputs": [
    {
     "name": "stdout",
     "output_type": "stream",
     "text": [
      "sharpe ratio = -0.583854916635\n"
     ]
    }
   ],
   "source": [
    "\n",
    "pnl_series_1, ret_series_1 = test_long_short_0(df)\n",
    "mean_ret = np.mean(ret_series_1)\n",
    "std_ret = np.std(ret_series_1)\n",
    "sharpe_ratio = mean_ret/std_ret\n",
    "print 'sharpe ratio = ' + str(sharpe_ratio)"
   ]
  },
  {
   "cell_type": "code",
   "execution_count": 65,
   "metadata": {},
   "outputs": [
    {
     "data": {
      "text/plain": [
       "<matplotlib.text.Text at 0x11e522250>"
      ]
     },
     "execution_count": 65,
     "metadata": {},
     "output_type": "execute_result"
    },
    {
     "data": {
      "image/png": "[encoded data removed]",
      "text/plain": [
       "<matplotlib.figure.Figure at 0x11afde850>"
      ]
     },
     "metadata": {},
     "output_type": "display_data"
    }
   ],
   "source": [
    "plot(dates, pnl_series_1)\n",
    "pylab.xlabel('time')\n",
    "pylab.ylabel('cumulative pnl')\n",
    "pylab.title('random portfolio allocation')"
   ]
  },
  {
   "cell_type": "code",
   "execution_count": 59,
   "metadata": {},
   "outputs": [
    {
     "name": "stdout",
     "output_type": "stream",
     "text": [
      "sharpe ratio = 0.107895275051\n"
     ]
    }
   ],
   "source": [
    "\n",
    "pnl_series_1, ret_series_1 = test_long_short_1(df)\n",
    "mean_ret = np.mean(ret_series_1)\n",
    "std_ret = np.std(ret_series_1)\n",
    "sharpe_ratio = mean_ret/std_ret\n",
    "print 'sharpe ratio = ' + str(sharpe_ratio)\n"
   ]
  },
  {
   "cell_type": "code",
   "execution_count": 60,
   "metadata": {},
   "outputs": [
    {
     "data": {
      "text/plain": [
       "<matplotlib.text.Text at 0x11cdafe10>"
      ]
     },
     "execution_count": 60,
     "metadata": {},
     "output_type": "execute_result"
    },
    {
     "data": {
      "image/png": "[encoded data removed]",
      "text/plain": [
       "<matplotlib.figure.Figure at 0x11ccd71d0>"
      ]
     },
     "metadata": {},
     "output_type": "display_data"
    }
   ],
   "source": [
    "plot(dates, pnl_series_1)\n",
    "pylab.xlabel('time')\n",
    "pylab.ylabel('cumulative pnl')\n",
    "pylab.title('quantile portfolio allocation')"
   ]
  },
  {
   "cell_type": "markdown",
   "metadata": {},
   "source": [
    "### Long Short portfolio using alpha forcast approch"
   ]
  },
  {
   "cell_type": "code",
   "execution_count": 61,
   "metadata": {},
   "outputs": [
    {
     "name": "stdout",
     "output_type": "stream",
     "text": [
      "sharpe ratio = 0.473247104823\n"
     ]
    }
   ],
   "source": [
    "pnl_series_1, ret_series_1 = test_long_short_2(df)\n",
    "mean_ret = np.mean(ret_series_1)\n",
    "std_ret = np.std(ret_series_1)\n",
    "sharpe_ratio = mean_ret/std_ret\n",
    "print 'sharpe ratio = ' + str(sharpe_ratio)\n",
    "\n"
   ]
  },
  {
   "cell_type": "code",
   "execution_count": 62,
   "metadata": {},
   "outputs": [
    {
     "data": {
      "text/plain": [
       "<matplotlib.text.Text at 0x11d85ed50>"
      ]
     },
     "execution_count": 62,
     "metadata": {},
     "output_type": "execute_result"
    },
    {
     "data": {
      "image/png": "[encoded data removed]",
      "text/plain": [
       "<matplotlib.figure.Figure at 0x11d2d5d10>"
      ]
     },
     "metadata": {},
     "output_type": "display_data"
    }
   ],
   "source": [
    "plot(dates,pnl_series_1)\n",
    "pylab.xlabel('time')\n",
    "pylab.ylabel('cumulative pnl')\n",
    "pylab.title('optimal portfolio allocation')"
   ]
  },
  {
   "cell_type": "code",
   "execution_count": null,
   "metadata": {},
   "outputs": [],
   "source": [
    "import random\n",
    "random.seed(10)\n",
    "random.sample(range(signals.shape[1]), 10)"
   ]
  },
  {
   "cell_type": "code",
   "execution_count": null,
   "metadata": {},
   "outputs": [],
   "source": []
  },
  {
   "cell_type": "code",
   "execution_count": null,
   "metadata": {
    "collapsed": true
   },
   "outputs": [],
   "source": []
  },
  {
   "cell_type": "code",
   "execution_count": null,
   "metadata": {
    "collapsed": true
   },
   "outputs": [],
   "source": []
  },
  {
   "cell_type": "code",
   "execution_count": null,
   "metadata": {
    "collapsed": true
   },
   "outputs": [],
   "source": []
  },
  {
   "cell_type": "code",
   "execution_count": null,
   "metadata": {
    "collapsed": true
   },
   "outputs": [],
   "source": []
  },
  {
   "cell_type": "code",
   "execution_count": null,
   "metadata": {
    "collapsed": true
   },
   "outputs": [],
   "source": []
  }
 ],
 "metadata": {
  "kernelspec": {
   "display_name": "Python 2",
   "language": "python",
   "name": "python2"
  },
  "language_info": {
   "codemirror_mode": {
    "name": "ipython",
    "version": 2
   },
   "file_extension": ".py",
   "mimetype": "text/x-python",
   "name": "python",
   "nbconvert_exporter": "python",
   "pygments_lexer": "ipython2",
   "version": "2.7.13"
  }
 },
 "nbformat": 4,
 "nbformat_minor": 2
}
