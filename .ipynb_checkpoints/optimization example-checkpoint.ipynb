{
 "cells": [
  {
   "cell_type": "code",
   "execution_count": 91,
   "metadata": {
    "collapsed": true
   },
   "outputs": [],
   "source": [
    "import numpy as np\n",
    "import pandas as pd\n",
    "import datetime as dt\n",
    "import os"
   ]
  },
  {
   "cell_type": "code",
   "execution_count": 107,
   "metadata": {
    "collapsed": true
   },
   "outputs": [],
   "source": [
    "execfile('./price_reader.py')\n",
    "execfile('./optimizer.py')\n",
    "execfile('./parser/score_func.py')\n",
    "execfile('./parser/score_utils.py')"
   ]
  },
  {
   "cell_type": "code",
   "execution_count": 108,
   "metadata": {
    "collapsed": true
   },
   "outputs": [],
   "source": [
    "tickers = tickers = next(os.walk('../data/10-K/'))[1]\n",
    "begin_date = dt.date(2007,1,1)\n",
    "end_date = dt.date(2015,1,1)\n",
    "horizon = 12\n",
    "lag = 6\n"
   ]
  },
  {
   "cell_type": "code",
   "execution_count": 123,
   "metadata": {},
   "outputs": [],
   "source": [
    "### Signal generation \n",
    "score_func = similarity_score_word_vec\n",
    "signal_df =  get_section_scores(tickers, 'TEXT_VW', begin_date, end_date, score_func,lag  )\n"
   ]
  },
  {
   "cell_type": "code",
   "execution_count": 124,
   "metadata": {
    "collapsed": true
   },
   "outputs": [],
   "source": [
    "opt_dates = signal_df.index\n",
    "factor_name = 'F-F_Research_Data_5_Factors_2x3_daily'"
   ]
  },
  {
   "cell_type": "code",
   "execution_count": 125,
   "metadata": {},
   "outputs": [],
   "source": [
    "op_wiz = OptimizationWizard(tickers, factor_name, opt_dates )"
   ]
  },
  {
   "cell_type": "code",
   "execution_count": 126,
   "metadata": {},
   "outputs": [],
   "source": [
    "alpha_df = op_wiz.getAlpha(signal_df=signal_df,ic=0.5,adj_alpha=True, const_fac=1.0)"
   ]
  },
  {
   "cell_type": "code",
   "execution_count": 127,
   "metadata": {
    "collapsed": true
   },
   "outputs": [],
   "source": [
    "quantile_weights = op_wiz.getQuantileWeights(alpha_df, quantile= 0.25)\n",
    "mean_var_weights = op_wiz.getMeanVarWeights(alpha_df)\n",
    "zero_beta_weights = op_wiz.getZeroExposueWeights(alpha_df)"
   ]
  },
  {
   "cell_type": "code",
   "execution_count": 128,
   "metadata": {},
   "outputs": [],
   "source": [
    "p1,f1,a1= op_wiz.runStrategy(quantile_weights)\n",
    "p2, f2, a2 = op_wiz.runStrategy(mean_var_weights)\n",
    "p3, f3, a3 = op_wiz.runStrategy(zero_beta_weights)"
   ]
  },
  {
   "cell_type": "code",
   "execution_count": 129,
   "metadata": {},
   "outputs": [
    {
     "name": "stdout",
     "output_type": "stream",
     "text": [
      "[0.13226300574472824, 0.4240172076822953, 0.39000008728911606]\n"
     ]
    }
   ],
   "source": [
    "s1 = a1.mean()/a1.std()\n",
    "s2 = a2.mean()/a2.std()\n",
    "s3 = a3.mean()/a3.std()\n",
    "print [s1,s2,s3]"
   ]
  },
  {
   "cell_type": "code",
   "execution_count": 103,
   "metadata": {
    "collapsed": true
   },
   "outputs": [],
   "source": []
  },
  {
   "cell_type": "code",
   "execution_count": 104,
   "metadata": {},
   "outputs": [
    {
     "data": {
      "text/plain": [
       "0.316892380274017"
      ]
     },
     "execution_count": 104,
     "metadata": {},
     "output_type": "execute_result"
    }
   ],
   "source": []
  },
  {
   "cell_type": "code",
   "execution_count": 105,
   "metadata": {},
   "outputs": [
    {
     "data": {
      "text/plain": [
       "0.5071980353700517"
      ]
     },
     "execution_count": 105,
     "metadata": {},
     "output_type": "execute_result"
    }
   ],
   "source": []
  },
  {
   "cell_type": "code",
   "execution_count": 106,
   "metadata": {},
   "outputs": [
    {
     "data": {
      "text/plain": [
       "0.5342530242345955"
      ]
     },
     "execution_count": 106,
     "metadata": {},
     "output_type": "execute_result"
    }
   ],
   "source": []
  },
  {
   "cell_type": "code",
   "execution_count": 39,
   "metadata": {},
   "outputs": [
    {
     "data": {
      "text/plain": [
       "2005-07-01   -0.109411\n",
       "2006-07-01   -0.076380\n",
       "2007-07-01    0.008575\n",
       "2008-07-01   -0.185171\n",
       "2009-07-01   -0.066459\n",
       "2010-07-01   -0.346728\n",
       "2011-07-01   -0.046283\n",
       "2012-07-01   -0.287424\n",
       "2013-07-01   -0.302150\n",
       "2014-07-01    0.033930\n",
       "2015-07-01    0.014519\n",
       "dtype: float64"
      ]
     },
     "execution_count": 39,
     "metadata": {},
     "output_type": "execute_result"
    }
   ],
   "source": [
    "abs(zero_beta_weights).sum(axis=1)\n"
   ]
  },
  {
   "cell_type": "code",
   "execution_count": 20,
   "metadata": {},
   "outputs": [],
   "source": [
    "net_beta = np.dot( zero_beta_weights.loc[op_wiz.dates[0]], op_wiz.beta_book[op_wiz.dates[0]] )"
   ]
  },
  {
   "cell_type": "code",
   "execution_count": 21,
   "metadata": {},
   "outputs": [
    {
     "data": {
      "text/plain": [
       "array([-1.32399178,  2.1278851 , -0.48955087,  0.13002873,  1.21721116,\n",
       "       -0.05590463])"
      ]
     },
     "execution_count": 21,
     "metadata": {},
     "output_type": "execute_result"
    }
   ],
   "source": [
    "net_beta"
   ]
  },
  {
   "cell_type": "code",
   "execution_count": 22,
   "metadata": {},
   "outputs": [
    {
     "data": {
      "text/plain": [
       "(11, 28)"
      ]
     },
     "execution_count": 22,
     "metadata": {},
     "output_type": "execute_result"
    }
   ],
   "source": [
    "zero_beta_weights.shape"
   ]
  },
  {
   "cell_type": "code",
   "execution_count": 23,
   "metadata": {},
   "outputs": [
    {
     "data": {
      "text/plain": [
       "(28, 6)"
      ]
     },
     "execution_count": 23,
     "metadata": {},
     "output_type": "execute_result"
    }
   ],
   "source": [
    "op_wiz.beta_book[op_wiz.dates[0]].shape"
   ]
  },
  {
   "cell_type": "code",
   "execution_count": null,
   "metadata": {
    "collapsed": true
   },
   "outputs": [],
   "source": []
  }
 ],
 "metadata": {
  "kernelspec": {
   "display_name": "Python 2",
   "language": "python",
   "name": "python2"
  },
  "language_info": {
   "codemirror_mode": {
    "name": "ipython",
    "version": 2
   },
   "file_extension": ".py",
   "mimetype": "text/x-python",
   "name": "python",
   "nbconvert_exporter": "python",
   "pygments_lexer": "ipython2",
   "version": "2.7.13"
  }
 },
 "nbformat": 4,
 "nbformat_minor": 2
}
