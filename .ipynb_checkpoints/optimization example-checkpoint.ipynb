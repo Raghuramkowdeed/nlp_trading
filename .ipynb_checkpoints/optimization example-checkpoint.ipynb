{
 "cells": [
  {
   "cell_type": "code",
   "execution_count": 128,
   "metadata": {},
   "outputs": [
    {
     "name": "stdout",
     "output_type": "stream",
     "text": [
      "Populating the interactive namespace from numpy and matplotlib\n"
     ]
    }
   ],
   "source": [
    "import numpy as np\n",
    "import pandas as pd\n",
    "import datetime as dt\n",
    "import os\n",
    "%pylab inline"
   ]
  },
  {
   "cell_type": "code",
   "execution_count": 129,
   "metadata": {
    "collapsed": true
   },
   "outputs": [],
   "source": [
    "execfile('./price_reader.py')\n",
    "execfile('./optimizer.py')\n",
    "execfile('./parser/score_func.py')\n",
    "execfile('./parser/score_utils.py')"
   ]
  },
  {
   "cell_type": "code",
   "execution_count": 66,
   "metadata": {},
   "outputs": [
    {
     "data": {
      "text/plain": [
       "394"
      ]
     },
     "execution_count": 66,
     "metadata": {},
     "output_type": "execute_result"
    }
   ],
   "source": [
    "tickers = tickers = next(os.walk('../data/10-K/'))[1]\n",
    "begin_date = dt.date(2007,1,1)\n",
    "end_date = dt.date(2016,1,1)\n",
    "horizon = 12\n",
    "lag = 6\n",
    "\n",
    "tickers_filtered = []\n",
    "curr_dir = '../data/10-K/'\n",
    "beta_dir = '../data/BETA/F-F_Research_Data_5_Factors_2x3_daily/'\n",
    "\n",
    "beta_files = os.listdir(beta_dir)\n",
    "tickers = np.intersect1d(tickers, beta_files)\n",
    "\n",
    "for tic in tickers:\n",
    "    this_dir = curr_dir + tic +   '/TEXT/'\n",
    "\n",
    "    files = os.listdir(this_dir)\n",
    "    dates = [ dt.datetime.strptime(f, '%Y-%m-%d').year for f in files]\n",
    "    \n",
    "    include = False\n",
    "\n",
    "    if begin_date.year in dates and ( end_date + relativedelta(years=0) ).year in dates :\n",
    "        include = True\n",
    "    \n",
    "    if include :\n",
    "        tickers_filtered.append(tic)\n",
    "\n",
    "tickers = tickers_filtered   \n",
    "\n",
    "\n",
    "\n",
    "price_dir = '../data/PRICES/'\n",
    "beta_dir = '../data/BETA/F-F_Research_Data_5_Factors_2x3_daily/'\n",
    "\n",
    "price_files = os.listdir(curr_dir)\n",
    "tickers = np.intersect1d(tickers, price_files)\n",
    "\n",
    "tickers_filtered = []\n",
    "\n",
    "for tic in tickers:\n",
    "    this_file = price_dir + tic + '.pkl'\n",
    "    p = pd.read_pickle(this_file)\n",
    "    b1 = p.index[0]\n",
    "    e1 = p.index[-1]\n",
    "    \n",
    "    if (b1.date() < begin_date) and e1.date() > (end_date) :\n",
    "        tickers_filtered.append(tic)\n",
    "\n",
    "tickers = tickers_filtered   \n",
    "\n",
    "len(tic)\n"
   ]
  },
  {
   "cell_type": "code",
   "execution_count": 67,
   "metadata": {},
   "outputs": [],
   "source": [
    "### Signal generation \n",
    "score_func_count = lambda x,y :similarity_score_word_count(x,y,use_ret=False)\n",
    "score_func_vw = lambda x,y :similarity_score_word_vec(x,y,metric_type='dot')\n",
    "score_func_pca = lambda x,y :similarity_score_pca_word_vec(x,y,metric_type='mse')\n",
    "\n",
    "\n",
    "#signal_df_txt =  get_section_scores(tickers, 'TEXT_VW', begin_date, end_date, score_func_vw,lag  )\n",
    "#signal_df_s_1a =  get_section_scores(tickers, 'S_1A_VW', begin_date, end_date, score_func_vw,lag  )\n",
    "#signal_df_mda =  get_section_scores(tickers, 'MDA_VW', begin_date, end_date, score_func_vw,lag  )\n",
    "#sig_vec = [signal_df_txt, signal_df_s_1a, signal_df_mda]\n",
    "#sig_type = ['TEXT', 'S_1A', 'MDA']"
   ]
  },
  {
   "cell_type": "code",
   "execution_count": 130,
   "metadata": {
    "collapsed": true
   },
   "outputs": [],
   "source": [
    "signal_df_text =  get_section_scores(tickers, 'MDA', begin_date, end_date, score_func_count,lag  )"
   ]
  },
  {
   "cell_type": "code",
   "execution_count": 101,
   "metadata": {
    "collapsed": true
   },
   "outputs": [],
   "source": [
    "signal_df_mda_wc =  get_section_scores(tickers, 'MDA', begin_date, end_date, score_func_count,lag  )"
   ]
  },
  {
   "cell_type": "code",
   "execution_count": 104,
   "metadata": {
    "collapsed": true
   },
   "outputs": [],
   "source": [
    "signal_df_s_1a_wc =  get_section_scores(tickers, 'S_1A', begin_date, end_date, score_func_count,lag  )"
   ]
  },
  {
   "cell_type": "code",
   "execution_count": 68,
   "metadata": {
    "collapsed": true
   },
   "outputs": [],
   "source": [
    "signal_df_mda =  get_section_scores(tickers, 'MDA_VW', begin_date, end_date, score_func_vw,lag  )"
   ]
  },
  {
   "cell_type": "code",
   "execution_count": 121,
   "metadata": {},
   "outputs": [],
   "source": [
    "signal_df_sentiment =  get_section_scores(tickers, 'TEXT', begin_date, end_date, sentimental_score,lag  )\n"
   ]
  },
  {
   "cell_type": "code",
   "execution_count": 115,
   "metadata": {
    "collapsed": true
   },
   "outputs": [],
   "source": [
    "opt_dates = signal_df_mda.index\n",
    "factor_name = 'F-F_Research_Data_5_Factors_2x3_daily'"
   ]
  },
  {
   "cell_type": "code",
   "execution_count": 71,
   "metadata": {
    "collapsed": true
   },
   "outputs": [],
   "source": [
    "op_wiz = OptimizationWizard(tickers, factor_name, opt_dates )"
   ]
  },
  {
   "cell_type": "code",
   "execution_count": 76,
   "metadata": {},
   "outputs": [
    {
     "data": {
      "text/plain": [
       "CMA       False\n",
       "HML       False\n",
       "Mkt-RF    False\n",
       "RMW       False\n",
       "SMB       False\n",
       "vol       False\n",
       "dtype: bool"
      ]
     },
     "execution_count": 76,
     "metadata": {},
     "output_type": "execute_result"
    }
   ],
   "source": [
    "op_wiz.beta_book[opt_dates[0]].isnull().any()\n",
    "\n"
   ]
  },
  {
   "cell_type": "code",
   "execution_count": 31,
   "metadata": {},
   "outputs": [],
   "source": [
    "def get_stats(signal_df, sec = 'TEXT_VW', adj_alpha = True , opt_type = 'quantile'):\n",
    "    print sec\n",
    "    alpha = 0\n",
    "    \n",
    "    alpha_tag = ''\n",
    "    if adj_alpha:\n",
    "        alpha_tag = 'adj_alpha'\n",
    "        alpha = op_wiz.getAlpha(signal_df=signal_df,ic=0.5,adj_alpha=True, const_fac=1.0)\n",
    "    else :   \n",
    "        alpha_tag = 'unadj_alpha'\n",
    "        alpha = op_wiz.getAlpha(signal_df=signal_df,ic=0.5,adj_alpha=False, const_fac=1.0)\n",
    "    \n",
    "    weights = 0\n",
    "    if opt_type == 'quantile' :\n",
    "        weights = op_wiz.getQuantileWeights(alpha, quantile= 0.25)\n",
    "    \n",
    "    if opt_type == 'mean_var':\n",
    "        weights = op_wiz.getMeanVarWeights(alpha)\n",
    "    \n",
    "    if opt_type == 'zero_beta':\n",
    "        weights = op_wiz.getZeroExposueWeights( alpha )\n",
    "        \n",
    "    \n",
    "    p1,f1,a1= op_wiz.runStrategy(weights)\n",
    "    \n",
    "    print a1\n",
    "    \n",
    "    s1 = a1.mean()/a1.std()\n",
    "\n",
    "\n",
    "    print 'Information Ratio'\n",
    "    print s1\n",
    "    print '------------'\n",
    "\n",
    "    title = sec + ' ' + alpha_tag + ' ' + opt_type\n",
    "    pnl = 1 + a1\n",
    "    pnl = pnl.cumprod()\n",
    "    \n",
    "    pylab.plot(opt_dates, pnl)\n",
    "    pylab.xlabel('time')\n",
    "    pylab.ylabel('cum pnl')\n",
    "    pylab.title(title)\n",
    "    \n",
    "    \n",
    "\n",
    "    \n"
   ]
  },
  {
   "cell_type": "code",
   "execution_count": 124,
   "metadata": {},
   "outputs": [
    {
     "name": "stdout",
     "output_type": "stream",
     "text": [
      "MDA\n"
     ]
    },
    {
     "ename": "TypeError",
     "evalue": "ufunc 'isnan' not supported for the input types, and the inputs could not be safely coerced to any supported types according to the casting rule ''safe''",
     "output_type": "error",
     "traceback": [
      "\u001b[0;31m---------------------------------------------------------------------------\u001b[0m",
      "\u001b[0;31mTypeError\u001b[0m                                 Traceback (most recent call last)",
      "\u001b[0;32m<ipython-input-124-edd1fec4080e>\u001b[0m in \u001b[0;36m<module>\u001b[0;34m()\u001b[0m\n\u001b[0;32m----> 1\u001b[0;31m \u001b[0mget_stats\u001b[0m\u001b[0;34m(\u001b[0m\u001b[0msignal_df\u001b[0m\u001b[0;34m=\u001b[0m\u001b[0msignal_df_sentiment\u001b[0m\u001b[0;34m,\u001b[0m \u001b[0msec\u001b[0m\u001b[0;34m=\u001b[0m\u001b[0;34m'MDA'\u001b[0m\u001b[0;34m,\u001b[0m \u001b[0mopt_type\u001b[0m\u001b[0;34m=\u001b[0m\u001b[0;34m'zero_beta'\u001b[0m\u001b[0;34m,\u001b[0m \u001b[0madj_alpha\u001b[0m\u001b[0;34m=\u001b[0m\u001b[0mTrue\u001b[0m\u001b[0;34m)\u001b[0m\u001b[0;34m\u001b[0m\u001b[0m\n\u001b[0m\u001b[1;32m      2\u001b[0m \u001b[0;31m#alpha = op_wiz.getAlpha(signal_df=signal_df_mda,ic=0.5,adj_alpha=True, const_fac=1.0)\u001b[0m\u001b[0;34m\u001b[0m\u001b[0;34m\u001b[0m\u001b[0m\n\u001b[1;32m      3\u001b[0m \u001b[0;31m#weights = op_wiz.getQuantileWeights(alpha_df=alpha,quantile=0.25)\u001b[0m\u001b[0;34m\u001b[0m\u001b[0;34m\u001b[0m\u001b[0m\n",
      "\u001b[0;32m<ipython-input-31-fdffd73e3ecf>\u001b[0m in \u001b[0;36mget_stats\u001b[0;34m(signal_df, sec, adj_alpha, opt_type)\u001b[0m\n\u001b[1;32m     19\u001b[0m \u001b[0;34m\u001b[0m\u001b[0m\n\u001b[1;32m     20\u001b[0m     \u001b[0;32mif\u001b[0m \u001b[0mopt_type\u001b[0m \u001b[0;34m==\u001b[0m \u001b[0;34m'zero_beta'\u001b[0m\u001b[0;34m:\u001b[0m\u001b[0;34m\u001b[0m\u001b[0m\n\u001b[0;32m---> 21\u001b[0;31m         \u001b[0mweights\u001b[0m \u001b[0;34m=\u001b[0m \u001b[0mop_wiz\u001b[0m\u001b[0;34m.\u001b[0m\u001b[0mgetZeroExposueWeights\u001b[0m\u001b[0;34m(\u001b[0m \u001b[0malpha\u001b[0m \u001b[0;34m)\u001b[0m\u001b[0;34m\u001b[0m\u001b[0m\n\u001b[0m\u001b[1;32m     22\u001b[0m \u001b[0;34m\u001b[0m\u001b[0m\n\u001b[1;32m     23\u001b[0m \u001b[0;34m\u001b[0m\u001b[0m\n",
      "\u001b[0;32m/Volumes/mydisk/nlp/code/optimizer.py\u001b[0m in \u001b[0;36mgetZeroExposueWeights\u001b[0;34m(self, alpha_df)\u001b[0m\n\u001b[1;32m    337\u001b[0m             \u001b[0;31m#print 'alpha_vec'\u001b[0m\u001b[0;34m\u001b[0m\u001b[0;34m\u001b[0m\u001b[0m\n\u001b[1;32m    338\u001b[0m             \u001b[0malpha_vec\u001b[0m \u001b[0;34m=\u001b[0m \u001b[0malpha_df\u001b[0m\u001b[0;34m.\u001b[0m\u001b[0miloc\u001b[0m\u001b[0;34m[\u001b[0m\u001b[0mi\u001b[0m\u001b[0;34m,\u001b[0m\u001b[0;34m:\u001b[0m\u001b[0;34m]\u001b[0m\u001b[0;34m\u001b[0m\u001b[0m\n\u001b[0;32m--> 339\u001b[0;31m             \u001b[0mind\u001b[0m \u001b[0;34m=\u001b[0m \u001b[0;34m[\u001b[0m \u001b[0mi\u001b[0m \u001b[0;32mfor\u001b[0m \u001b[0mi\u001b[0m\u001b[0;34m,\u001b[0m\u001b[0mv\u001b[0m \u001b[0;32min\u001b[0m \u001b[0menumerate\u001b[0m\u001b[0;34m(\u001b[0m\u001b[0malpha_vec\u001b[0m\u001b[0;34m)\u001b[0m \u001b[0;32mif\u001b[0m \u001b[0;32mnot\u001b[0m \u001b[0mnp\u001b[0m\u001b[0;34m.\u001b[0m\u001b[0misnan\u001b[0m\u001b[0;34m(\u001b[0m\u001b[0mv\u001b[0m\u001b[0;34m)\u001b[0m \u001b[0;34m]\u001b[0m\u001b[0;34m\u001b[0m\u001b[0m\n\u001b[0m\u001b[1;32m    340\u001b[0m \u001b[0;34m\u001b[0m\u001b[0m\n\u001b[1;32m    341\u001b[0m             \u001b[0mthis_alpha_vec\u001b[0m \u001b[0;34m=\u001b[0m \u001b[0malpha_vec\u001b[0m\u001b[0;34m[\u001b[0m\u001b[0mind\u001b[0m\u001b[0;34m]\u001b[0m\u001b[0;34m\u001b[0m\u001b[0m\n",
      "\u001b[0;31mTypeError\u001b[0m: ufunc 'isnan' not supported for the input types, and the inputs could not be safely coerced to any supported types according to the casting rule ''safe''"
     ]
    }
   ],
   "source": [
    "get_stats(signal_df=signal_df_sentiment, sec='MDA', opt_type='zero_beta', adj_alpha=True)\n",
    "#alpha = op_wiz.getAlpha(signal_df=signal_df_mda,ic=0.5,adj_alpha=True, const_fac=1.0)\n",
    "#weights = op_wiz.getQuantileWeights(alpha_df=alpha,quantile=0.25)"
   ]
  },
  {
   "cell_type": "code",
   "execution_count": 125,
   "metadata": {},
   "outputs": [
    {
     "data": {
      "text/html": [
       "<div>\n",
       "<style>\n",
       "    .dataframe thead tr:only-child th {\n",
       "        text-align: right;\n",
       "    }\n",
       "\n",
       "    .dataframe thead th {\n",
       "        text-align: left;\n",
       "    }\n",
       "\n",
       "    .dataframe tbody tr th {\n",
       "        vertical-align: top;\n",
       "    }\n",
       "</style>\n",
       "<table border=\"1\" class=\"dataframe\">\n",
       "  <thead>\n",
       "    <tr style=\"text-align: right;\">\n",
       "      <th></th>\n",
       "      <th>A</th>\n",
       "      <th>AAL</th>\n",
       "      <th>AAP</th>\n",
       "      <th>AAPL</th>\n",
       "      <th>ABC</th>\n",
       "      <th>ABT</th>\n",
       "      <th>ADBE</th>\n",
       "      <th>ADI</th>\n",
       "      <th>ADM</th>\n",
       "      <th>ADP</th>\n",
       "      <th>...</th>\n",
       "      <th>WYNN</th>\n",
       "      <th>XEC</th>\n",
       "      <th>XEL</th>\n",
       "      <th>XL</th>\n",
       "      <th>XLNX</th>\n",
       "      <th>XOM</th>\n",
       "      <th>XRAY</th>\n",
       "      <th>XRX</th>\n",
       "      <th>YUM</th>\n",
       "      <th>ZION</th>\n",
       "    </tr>\n",
       "  </thead>\n",
       "  <tbody>\n",
       "    <tr>\n",
       "      <th>2007-07-01</th>\n",
       "      <td>[]</td>\n",
       "      <td>[]</td>\n",
       "      <td>[]</td>\n",
       "      <td>[]</td>\n",
       "      <td>[]</td>\n",
       "      <td>[]</td>\n",
       "      <td>[]</td>\n",
       "      <td>[]</td>\n",
       "      <td>[]</td>\n",
       "      <td>[]</td>\n",
       "      <td>...</td>\n",
       "      <td>[]</td>\n",
       "      <td>[]</td>\n",
       "      <td>[]</td>\n",
       "      <td>[]</td>\n",
       "      <td>[]</td>\n",
       "      <td>[]</td>\n",
       "      <td>[]</td>\n",
       "      <td>[]</td>\n",
       "      <td>[]</td>\n",
       "      <td>[]</td>\n",
       "    </tr>\n",
       "    <tr>\n",
       "      <th>2008-07-01</th>\n",
       "      <td>[]</td>\n",
       "      <td>[]</td>\n",
       "      <td>[]</td>\n",
       "      <td>[]</td>\n",
       "      <td>[]</td>\n",
       "      <td>[]</td>\n",
       "      <td>[]</td>\n",
       "      <td>[]</td>\n",
       "      <td>[]</td>\n",
       "      <td>[]</td>\n",
       "      <td>...</td>\n",
       "      <td>[]</td>\n",
       "      <td>[]</td>\n",
       "      <td>[]</td>\n",
       "      <td>[]</td>\n",
       "      <td>[]</td>\n",
       "      <td>[]</td>\n",
       "      <td>[]</td>\n",
       "      <td>[]</td>\n",
       "      <td>[]</td>\n",
       "      <td>[]</td>\n",
       "    </tr>\n",
       "    <tr>\n",
       "      <th>2009-07-01</th>\n",
       "      <td>[]</td>\n",
       "      <td>[]</td>\n",
       "      <td>[]</td>\n",
       "      <td>[]</td>\n",
       "      <td>[]</td>\n",
       "      <td>[]</td>\n",
       "      <td>[]</td>\n",
       "      <td>[]</td>\n",
       "      <td>[]</td>\n",
       "      <td>[]</td>\n",
       "      <td>...</td>\n",
       "      <td>[]</td>\n",
       "      <td>[]</td>\n",
       "      <td>[]</td>\n",
       "      <td>[]</td>\n",
       "      <td>[]</td>\n",
       "      <td>[]</td>\n",
       "      <td>[]</td>\n",
       "      <td>[]</td>\n",
       "      <td>[]</td>\n",
       "      <td>[]</td>\n",
       "    </tr>\n",
       "    <tr>\n",
       "      <th>2010-07-01</th>\n",
       "      <td>[]</td>\n",
       "      <td>[]</td>\n",
       "      <td>[]</td>\n",
       "      <td>[]</td>\n",
       "      <td>[]</td>\n",
       "      <td>[]</td>\n",
       "      <td>[]</td>\n",
       "      <td>[]</td>\n",
       "      <td>[]</td>\n",
       "      <td>[]</td>\n",
       "      <td>...</td>\n",
       "      <td>[]</td>\n",
       "      <td>[]</td>\n",
       "      <td>[]</td>\n",
       "      <td>[]</td>\n",
       "      <td>[]</td>\n",
       "      <td>[]</td>\n",
       "      <td>[]</td>\n",
       "      <td>[]</td>\n",
       "      <td>[]</td>\n",
       "      <td>[]</td>\n",
       "    </tr>\n",
       "    <tr>\n",
       "      <th>2011-07-01</th>\n",
       "      <td>[]</td>\n",
       "      <td>[]</td>\n",
       "      <td>[]</td>\n",
       "      <td>[]</td>\n",
       "      <td>[]</td>\n",
       "      <td>[]</td>\n",
       "      <td>[]</td>\n",
       "      <td>[]</td>\n",
       "      <td>[]</td>\n",
       "      <td>[]</td>\n",
       "      <td>...</td>\n",
       "      <td>[]</td>\n",
       "      <td>[]</td>\n",
       "      <td>[]</td>\n",
       "      <td>[]</td>\n",
       "      <td>[]</td>\n",
       "      <td>[]</td>\n",
       "      <td>[]</td>\n",
       "      <td>[]</td>\n",
       "      <td>[]</td>\n",
       "      <td>[]</td>\n",
       "    </tr>\n",
       "  </tbody>\n",
       "</table>\n",
       "<p>5 rows × 394 columns</p>\n",
       "</div>"
      ],
      "text/plain": [
       "             A AAL AAP AAPL ABC ABT ADBE ADI ADM ADP ...  WYNN XEC XEL  XL  \\\n",
       "2007-07-01  []  []  []   []  []  []   []  []  []  [] ...    []  []  []  []   \n",
       "2008-07-01  []  []  []   []  []  []   []  []  []  [] ...    []  []  []  []   \n",
       "2009-07-01  []  []  []   []  []  []   []  []  []  [] ...    []  []  []  []   \n",
       "2010-07-01  []  []  []   []  []  []   []  []  []  [] ...    []  []  []  []   \n",
       "2011-07-01  []  []  []   []  []  []   []  []  []  [] ...    []  []  []  []   \n",
       "\n",
       "           XLNX XOM XRAY XRX YUM ZION  \n",
       "2007-07-01   []  []   []  []  []   []  \n",
       "2008-07-01   []  []   []  []  []   []  \n",
       "2009-07-01   []  []   []  []  []   []  \n",
       "2010-07-01   []  []   []  []  []   []  \n",
       "2011-07-01   []  []   []  []  []   []  \n",
       "\n",
       "[5 rows x 394 columns]"
      ]
     },
     "execution_count": 125,
     "metadata": {},
     "output_type": "execute_result"
    }
   ],
   "source": [
    "signal_df_sentiment.head()"
   ]
  },
  {
   "cell_type": "code",
   "execution_count": 62,
   "metadata": {},
   "outputs": [
    {
     "data": {
      "text/html": [
       "<div>\n",
       "<style>\n",
       "    .dataframe thead tr:only-child th {\n",
       "        text-align: right;\n",
       "    }\n",
       "\n",
       "    .dataframe thead th {\n",
       "        text-align: left;\n",
       "    }\n",
       "\n",
       "    .dataframe tbody tr th {\n",
       "        vertical-align: top;\n",
       "    }\n",
       "</style>\n",
       "<table border=\"1\" class=\"dataframe\">\n",
       "  <thead>\n",
       "    <tr style=\"text-align: right;\">\n",
       "      <th></th>\n",
       "      <th>Close</th>\n",
       "    </tr>\n",
       "    <tr>\n",
       "      <th>Date</th>\n",
       "      <th></th>\n",
       "    </tr>\n",
       "  </thead>\n",
       "  <tbody>\n",
       "    <tr>\n",
       "      <th>2010-01-05</th>\n",
       "      <td>35.0</td>\n",
       "    </tr>\n",
       "    <tr>\n",
       "      <th>2010-01-06</th>\n",
       "      <td>35.0</td>\n",
       "    </tr>\n",
       "    <tr>\n",
       "      <th>2010-01-07</th>\n",
       "      <td>35.0</td>\n",
       "    </tr>\n",
       "    <tr>\n",
       "      <th>2010-01-08</th>\n",
       "      <td>33.5</td>\n",
       "    </tr>\n",
       "    <tr>\n",
       "      <th>2010-01-11</th>\n",
       "      <td>33.5</td>\n",
       "    </tr>\n",
       "  </tbody>\n",
       "</table>\n",
       "</div>"
      ],
      "text/plain": [
       "            Close\n",
       "Date             \n",
       "2010-01-05   35.0\n",
       "2010-01-06   35.0\n",
       "2010-01-07   35.0\n",
       "2010-01-08   33.5\n",
       "2010-01-11   33.5"
      ]
     },
     "execution_count": 62,
     "metadata": {},
     "output_type": "execute_result"
    }
   ],
   "source": [
    "p = pd.read_pickle('../data/PRICES/CHTR.pkl')\n",
    "p.head()"
   ]
  },
  {
   "cell_type": "code",
   "execution_count": 60,
   "metadata": {},
   "outputs": [
    {
     "data": {
      "text/plain": [
       "Close   NaN\n",
       "Name: CHTR, dtype: float64"
      ]
     },
     "execution_count": 60,
     "metadata": {},
     "output_type": "execute_result"
    }
   ],
   "source": [
    "op_wiz.stock_pnl_book[opt_dates[0]].iloc[73]"
   ]
  },
  {
   "cell_type": "code",
   "execution_count": 18,
   "metadata": {},
   "outputs": [],
   "source": [
    "signal_df_txt.to_pickle('../data/signals/wv_text.pkl')"
   ]
  },
  {
   "cell_type": "code",
   "execution_count": 19,
   "metadata": {},
   "outputs": [],
   "source": [
    "signal_df_s_1a.to_pickle('../data/signals/wv_s_1a.pkl')"
   ]
  },
  {
   "cell_type": "code",
   "execution_count": 20,
   "metadata": {},
   "outputs": [],
   "source": [
    "signal_df_mda.to_pickle('../data/signals/vw_mda.pkl')"
   ]
  },
  {
   "cell_type": "code",
   "execution_count": 39,
   "metadata": {},
   "outputs": [
    {
     "data": {
      "text/plain": [
       "2005-07-01   -0.109411\n",
       "2006-07-01   -0.076380\n",
       "2007-07-01    0.008575\n",
       "2008-07-01   -0.185171\n",
       "2009-07-01   -0.066459\n",
       "2010-07-01   -0.346728\n",
       "2011-07-01   -0.046283\n",
       "2012-07-01   -0.287424\n",
       "2013-07-01   -0.302150\n",
       "2014-07-01    0.033930\n",
       "2015-07-01    0.014519\n",
       "dtype: float64"
      ]
     },
     "execution_count": 39,
     "metadata": {},
     "output_type": "execute_result"
    }
   ],
   "source": [
    "abs(zero_beta_weights).sum(axis=1)\n"
   ]
  },
  {
   "cell_type": "code",
   "execution_count": 20,
   "metadata": {
    "collapsed": true
   },
   "outputs": [],
   "source": []
  },
  {
   "cell_type": "code",
   "execution_count": 21,
   "metadata": {},
   "outputs": [
    {
     "data": {
      "text/plain": [
       "array([-1.32399178,  2.1278851 , -0.48955087,  0.13002873,  1.21721116,\n",
       "       -0.05590463])"
      ]
     },
     "execution_count": 21,
     "metadata": {},
     "output_type": "execute_result"
    }
   ],
   "source": []
  },
  {
   "cell_type": "code",
   "execution_count": 22,
   "metadata": {},
   "outputs": [
    {
     "data": {
      "text/plain": [
       "(11, 28)"
      ]
     },
     "execution_count": 22,
     "metadata": {},
     "output_type": "execute_result"
    }
   ],
   "source": []
  },
  {
   "cell_type": "code",
   "execution_count": 23,
   "metadata": {},
   "outputs": [
    {
     "data": {
      "text/plain": [
       "(28, 6)"
      ]
     },
     "execution_count": 23,
     "metadata": {},
     "output_type": "execute_result"
    }
   ],
   "source": []
  },
  {
   "cell_type": "code",
   "execution_count": null,
   "metadata": {
    "collapsed": true
   },
   "outputs": [],
   "source": []
  }
 ],
 "metadata": {
  "kernelspec": {
   "display_name": "Python 2",
   "language": "python",
   "name": "python2"
  },
  "language_info": {
   "codemirror_mode": {
    "name": "ipython",
    "version": 2
   },
   "file_extension": ".py",
   "mimetype": "text/x-python",
   "name": "python",
   "nbconvert_exporter": "python",
   "pygments_lexer": "ipython2",
   "version": "2.7.13"
  }
 },
 "nbformat": 4,
 "nbformat_minor": 2
}
