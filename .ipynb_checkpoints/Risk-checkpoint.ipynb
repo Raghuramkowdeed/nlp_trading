{
 "cells": [
  {
   "cell_type": "code",
   "execution_count": 53,
   "metadata": {},
   "outputs": [
    {
     "name": "stdout",
     "output_type": "stream",
     "text": [
      "Populating the interactive namespace from numpy and matplotlib\n"
     ]
    }
   ],
   "source": [
    "import pandas as pd\n",
    "import numpy as np \n",
    "import datetime as dt\n",
    "import os as os\n",
    "%pylab inline"
   ]
  },
  {
   "cell_type": "code",
   "execution_count": 54,
   "metadata": {},
   "outputs": [],
   "source": [
    "execfile('./price_reader.py')"
   ]
  },
  {
   "cell_type": "code",
   "execution_count": 57,
   "metadata": {},
   "outputs": [],
   "source": [
    "\n"
   ]
  },
  {
   "cell_type": "code",
   "execution_count": 55,
   "metadata": {},
   "outputs": [
    {
     "name": "stdout",
     "output_type": "stream",
     "text": [
      "371\n"
     ]
    }
   ],
   "source": [
    "bucket_list = pd.read_csv('../data/sp_500_frtb_bucket',delimiter=' ')\n",
    "tickers = bucket_list.ticker\n",
    "\n",
    "begin_date = dt.date(2005,1,1)\n",
    "end_date = dt.date(2016,1,1)\n",
    "\n",
    "curr_dir = '../data/10-K/'\n",
    "price_dir = '../data/PRICES/'\n",
    "beta_dir = '../data/BETA/F-F_Research_Data_5_Factors_2x3_daily/'\n",
    "\n",
    "price_files = os.listdir(curr_dir)\n",
    "tickers = np.intersect1d(tickers, price_files)\n",
    "\n",
    "\n",
    "tickers_filtered = []\n",
    "#print tickers\n",
    "for tic in tickers:\n",
    "    this_file = price_dir + tic + '.pkl'\n",
    "    beta_file = beta_dir + tic\n",
    "    try :\n",
    "        p = pd.read_pickle(this_file)\n",
    "        b = pd.read_pickle(beta_file)\n",
    "        \n",
    "        b1 = p.index[0]\n",
    "        e1 = p.index[-1]\n",
    "        \n",
    "        b2 = b.index[0]\n",
    "        e2 = b.index[-1]\n",
    "        \n",
    "        if (b1.date() < begin_date) and e1.date() > (end_date) :\n",
    "            if b2 < begin_date and e2 > end_date :\n",
    "                tickers_filtered.append(tic)\n",
    "    except:\n",
    "        None\n",
    "\n",
    "tickers = tickers_filtered  \n",
    "#bucket_list_dict = { bucket_list.iloc[0]:bucket_list.iloc[i,1] for tic in range(bucket_list.shape[0])}\n",
    "#bucket_list = { bucket_list[tic]:for tic in tickers}\n",
    "\n",
    "tickers_filtered = []\n",
    "for tic in tickers:\n",
    "    p =  pd.read_pickle('../data/BETA/F-F_Research_Data_5_Factors_2x3_daily/'+tic)\n",
    "    m = p.max(axis=0)\n",
    "    \n",
    "    if m[5] < 0.8:\n",
    "        tickers_filtered.append(tic)\n",
    "\n",
    "tickers = tickers_filtered        \n",
    "print len(tickers)"
   ]
  },
  {
   "cell_type": "code",
   "execution_count": 56,
   "metadata": {},
   "outputs": [
    {
     "name": "stdout",
     "output_type": "stream",
     "text": [
      "371\n"
     ]
    }
   ],
   "source": [
    "bucket_list_dict = { bucket_list.iloc[i,0]:bucket_list.iloc[i,1] for i in range(bucket_list.shape[0]) if bucket_list.iloc[i,0] in tickers}\n",
    "print len(bucket_list_dict)"
   ]
  },
  {
   "cell_type": "code",
   "execution_count": 57,
   "metadata": {},
   "outputs": [],
   "source": [
    "def get_risks(tickers, begin_date, end_date ):\n",
    "    print 'new one'\n",
    "    factor_name = 'F-F_Research_Data_5_Factors_2x3_daily'\n",
    "    \n",
    "    fac_ret = pd.read_pickle('../data/FACTORS/F-F_Research_Data_5_Factors_2x3_daily.pkl')\n",
    "    \n",
    "    dates = [ d.date() for d in fac_ret.index ]\n",
    "    fac_ret.index = dates\n",
    "    \n",
    "    ind = [ i for i,d in enumerate(fac_ret.index) if d > begin_date ]\n",
    "    fac_ret = fac_ret.iloc[ind, :]\n",
    "    \n",
    "    ind = [ i for i,d in enumerate(fac_ret.index) if d < end_date ]\n",
    "    fac_ret = fac_ret.iloc[ind, :]\n",
    "    \n",
    "    #fac_ret = fac_ret[fac_ret.index > begin_date]\n",
    "    #fac_ret = fac_ret[fac_ret.index < end_date]\n",
    "\n",
    "    fac_cov = get_factor_cov(factor_name, halflife = 252 )\n",
    "    fac_mean = get_factor_mean(factor_name, halflife=252)\n",
    "    \n",
    "\n",
    "    \n",
    "    tickers_beta_dic = {}\n",
    "    tickers_vol_df = pd.DataFrame()\n",
    "    \n",
    "\n",
    "    \n",
    "    for tic in tickers:\n",
    "        p = pd.read_pickle('../data/BETA/F-F_Research_Data_5_Factors_2x3_daily/'+tic)\n",
    "        ind = [ i for i,d in enumerate(p.index) if d > begin_date ]\n",
    "        p = p.iloc[ind,:]\n",
    "        ind = [ i for i,d in enumerate(p.index) if d < end_date ]\n",
    "        p = p.iloc[ind, :]\n",
    "        \n",
    "        tickers_beta_dic[tic] = p.iloc[:,0:5]\n",
    "        tickers_vol_df[tic] = p.iloc[:,-1]\n",
    "     \n",
    "    \n",
    "    \n",
    "    tickers_vol_df.dropna(how='any',axis=0, inplace = True)\n",
    "    \n",
    "    #print 'vol shape'\n",
    "    #print tickers_vol_df.shape\n",
    "    \n",
    "    risks_df = pd.DataFrame()\n",
    "    #min var portfolio\n",
    "    #mean var portfolio\n",
    "    #equal weighted portfolio\n",
    "    \n",
    "    run_dates = tickers_vol_df.index\n",
    "    \n",
    "    for date in run_dates :\n",
    "        this_fac_cov = fac_cov.loc[date]\n",
    "        this_fac_mean = fac_mean.loc[date]\n",
    "        \n",
    "        this_stocks_beta = pd.DataFrame()\n",
    "        \n",
    "        for tic in tickers :\n",
    "            #print tic, date\n",
    "            this_stocks_beta[tic] = tickers_beta_dic[tic].loc[date]\n",
    "            \n",
    "            \n",
    "        var_1 = np.dot(this_fac_cov, this_stocks_beta )\n",
    "        var_1 = np.dot(this_stocks_beta.T, var_1)\n",
    "        \n",
    "        var_2 = np.diag(tickers_vol_df.loc[date]*tickers_vol_df.loc[date])\n",
    "        \n",
    "        stocks_ret = np.dot(this_stocks_beta.T, fac_mean.loc[date] )\n",
    "        \n",
    "        total_var = var_1 + var_2\n",
    "        \n",
    "        pres_mat = np.linalg.inv(total_var)\n",
    "        x1 = np.dot(pres_mat, np.ones(pres_mat.shape[0]))\n",
    "        norm_1 = np.dot(np.ones(pres_mat.shape[0]), x1.transpose() )\n",
    "        x2 = np.dot(pres_mat, stocks_ret )\n",
    "        norm_2 = np.dot(np.ones(pres_mat.shape[0]),x2.transpose() )                          \n",
    "        \n",
    "        #print x1\n",
    "        #print norm_1\n",
    "        \n",
    "        min_var_weights = x1/ norm_1\n",
    "        mean_var_weights = x2/norm_2\n",
    "        \n",
    "        eq_weights = np.ones(pres_mat.shape[0])/pres_mat.shape[0]\n",
    "                                      \n",
    "        min_var_risk = np.sqrt( np.dot( np.dot(min_var_weights, total_var), min_var_weights ) )                               \n",
    "                                      \n",
    "        mean_var_risk = np.sqrt( np.dot( np.dot(mean_var_weights, total_var), mean_var_weights ) )                               \n",
    "        eq_var_risk = np.sqrt( np.dot( np.dot(eq_weights, total_var), eq_weights ) )\n",
    "        \n",
    "        eig_val, eig_vec = np.linalg.eig(total_var)\n",
    "        \n",
    "        #ind = eig_val.argmax()\n",
    "        #print 'ind'\n",
    "        #print ind\n",
    "        #print 'total var shape'\n",
    "        #print total_var.shape\n",
    "        \n",
    "        #print 'eigen_vec shape'\n",
    "        #print eig_vec.shape\n",
    "        #eig_weights = eig_vec[ind,:]/( eig_vec[ind,:].sum() )\n",
    "        #print eig_weights.shape\n",
    "        \n",
    "        #eig_sd = np.sqrt( np.dot(eig_weights, total_var), eig_weights )\n",
    "        #print eig_sd.shape\n",
    "        \n",
    "        eig_sd = np.sqrt( np.max(eig_val)/np.sum(eig_val) )\n",
    "        \n",
    "        mean_sd = np.mean(tickers_vol_df.loc[date])\n",
    "        #iid_sd = np.sqrt( np.mean( tickers_vol_df.loc[date]*tickers_vol_df.loc[date] ) )\n",
    "        min_sd = np.min(tickers_vol_df.loc[date])\n",
    "        max_sd = np.max(tickers_vol_df.loc[date])\n",
    "        \n",
    "        names = [ 'min_sd', 'mean_sd', 'max_sd', 'min_var_sd', 'mean_var_sd', 'eq_sd', 'avg_corr', 'eig_sd']\n",
    "\n",
    "        sd_mat = np.array( [np.sqrt(total_var[i,i]) for i in range(total_var.shape[0]) ] )/eq_weights[0]\n",
    "\n",
    "        c1 = ( np.sum( sd_mat*sd_mat ) )\n",
    "        c2 = np.sum(sd_mat)*np.sum(sd_mat)\n",
    "        c3 = c2 - c1\n",
    "        \n",
    "        avg_corr = ( eq_var_risk*eq_var_risk - c1 )/(c2 - c1) \n",
    "\n",
    "        vec = [ min_sd, mean_sd, max_sd, min_var_risk, mean_var_risk, eq_var_risk, avg_corr, eig_sd]\n",
    "        \n",
    "        vec = pd.Series(vec, index = names, name = date)\n",
    "        risks_df = risks_df.append(vec)\n",
    "                                      \n",
    "    return risks_df                              \n",
    "                                              \n",
    "                                      \n",
    "\n"
   ]
  },
  {
   "cell_type": "code",
   "execution_count": null,
   "metadata": {},
   "outputs": [],
   "source": []
  },
  {
   "cell_type": "code",
   "execution_count": 58,
   "metadata": {},
   "outputs": [],
   "source": [
    "unique_buckets = np.unique( bucket_list.iloc[:,1] )\n",
    "bucket_stocks = {}\n",
    "\n",
    "for buc in unique_buckets :\n",
    "    this_l = []\n",
    "    for tic in tickers :\n",
    "        if bucket_list_dict[tic] == buc :\n",
    "            this_l.append(tic)\n",
    "\n",
    "    bucket_stocks[buc] = this_l\n",
    "\n"
   ]
  },
  {
   "cell_type": "code",
   "execution_count": 59,
   "metadata": {},
   "outputs": [
    {
     "name": "stdout",
     "output_type": "stream",
     "text": [
      "154\n",
      "61\n",
      "44\n",
      "111\n",
      "1\n"
     ]
    }
   ],
   "source": [
    "for buc in unique_buckets :\n",
    "    print len( bucket_stocks[buc]  )\n"
   ]
  },
  {
   "cell_type": "code",
   "execution_count": 260,
   "metadata": {},
   "outputs": [
    {
     "name": "stdout",
     "output_type": "stream",
     "text": [
      "new one\n"
     ]
    }
   ],
   "source": []
  },
  {
   "cell_type": "code",
   "execution_count": 269,
   "metadata": {},
   "outputs": [
    {
     "data": {
      "text/plain": [
       "array(['EQ_5', 'EQ_6', 'EQ_7', 'EQ_8', 'EQ_9'], dtype=object)"
      ]
     },
     "execution_count": 269,
     "metadata": {},
     "output_type": "execute_result"
    }
   ],
   "source": []
  },
  {
   "cell_type": "code",
   "execution_count": 60,
   "metadata": {},
   "outputs": [
    {
     "name": "stdout",
     "output_type": "stream",
     "text": [
      "new one\n",
      "new one\n",
      "new one\n",
      "new one\n"
     ]
    }
   ],
   "source": [
    "x5 = get_risks(tickers = bucket_stocks['EQ_5'], begin_date = dt.date(2006,1,1), end_date= dt.date(2017,1,1) )\n",
    "x6 = get_risks(tickers = bucket_stocks['EQ_6'], begin_date = dt.date(2006,1,1), end_date= dt.date(2016,1,1) )\n",
    "x7 = get_risks(tickers = bucket_stocks['EQ_7'], begin_date = dt.date(2006,1,1), end_date= dt.date(2016,1,1) )\n",
    "x8 = get_risks(tickers = bucket_stocks['EQ_8'], begin_date = dt.date(2006,1,1), end_date= dt.date(2016,1,1) )\n"
   ]
  },
  {
   "cell_type": "code",
   "execution_count": 71,
   "metadata": {},
   "outputs": [],
   "source": [
    "n = x5.shape[0]\n"
   ]
  },
  {
   "cell_type": "code",
   "execution_count": 63,
   "metadata": {},
   "outputs": [
    {
     "data": {
      "text/plain": [
       "<matplotlib.text.Text at 0x11745d790>"
      ]
     },
     "execution_count": 63,
     "metadata": {},
     "output_type": "execute_result"
    },
    {
     "data": {
      "image/png": "[encoded data removed]",
      "text/plain": [
       "<matplotlib.figure.Figure at 0x117fd6dd0>"
      ]
     },
     "metadata": {},
     "output_type": "display_data"
    }
   ],
   "source": [
    "x5.mean_sd.plot()\n",
    "\n",
    "pylab.title('EQ_5')\n",
    "pylab.xlabel('time')\n",
    "pylab.ylabel('std')\n",
    "pylab."
   ]
  },
  {
   "cell_type": "code",
   "execution_count": 76,
   "metadata": {},
   "outputs": [
    {
     "data": {
      "image/png": "[encoded data removed]",
      "text/plain": [
       "<matplotlib.figure.Figure at 0x116ad6290>"
      ]
     },
     "metadata": {},
     "output_type": "display_data"
    }
   ],
   "source": [
    "plt.plot(x5.index,[0.3 for k in range(n)])\n",
    "plt.plot(x5.mean_sd)\n",
    "plt.xlabel('Time')\n",
    "plt.ylabel('Std')\n",
    "plt.title('EQ 5')\n",
    "plt.show()"
   ]
  },
  {
   "cell_type": "code",
   "execution_count": 78,
   "metadata": {},
   "outputs": [
    {
     "data": {
      "image/png": "[encoded data removed]",
      "text/plain": [
       "<matplotlib.figure.Figure at 0x116e77490>"
      ]
     },
     "metadata": {},
     "output_type": "display_data"
    }
   ],
   "source": [
    "plt.plot(x6.index,[0.35 for k in range(2517)])\n",
    "plt.plot(x6.mean_sd)\n",
    "plt.xlabel('Time')\n",
    "plt.ylabel('Std')\n",
    "plt.title('EQ 6')\n",
    "plt.show()"
   ]
  },
  {
   "cell_type": "code",
   "execution_count": 80,
   "metadata": {},
   "outputs": [
    {
     "data": {
      "image/png": "[encoded data removed]",
      "text/plain": [
       "<matplotlib.figure.Figure at 0x116f78310>"
      ]
     },
     "metadata": {},
     "output_type": "display_data"
    }
   ],
   "source": [
    "plt.plot(x7.index,[0.4 for k in range(2509)])\n",
    "plt.plot(x7.mean_sd)\n",
    "plt.xlabel('Time')\n",
    "plt.ylabel('Std')\n",
    "plt.title('EQ 7')\n",
    "plt.show()"
   ]
  },
  {
   "cell_type": "code",
   "execution_count": 82,
   "metadata": {},
   "outputs": [
    {
     "data": {
      "image/png": "[encoded data removed]",
      "text/plain": [
       "<matplotlib.figure.Figure at 0x116f23210>"
      ]
     },
     "metadata": {},
     "output_type": "display_data"
    }
   ],
   "source": [
    "plt.plot(x8.index,[0.5 for k in range(2516)])\n",
    "plt.plot(x8.mean_sd)\n",
    "plt.xlabel('Time')\n",
    "plt.ylabel('Std')\n",
    "plt.title('EQ 8')\n",
    "plt.show()"
   ]
  },
  {
   "cell_type": "code",
   "execution_count": null,
   "metadata": {
    "collapsed": true
   },
   "outputs": [],
   "source": []
  }
 ],
 "metadata": {
  "kernelspec": {
   "display_name": "Python 2",
   "language": "python",
   "name": "python2"
  },
  "language_info": {
   "codemirror_mode": {
    "name": "ipython",
    "version": 2
   },
   "file_extension": ".py",
   "mimetype": "text/x-python",
   "name": "python",
   "nbconvert_exporter": "python",
   "pygments_lexer": "ipython2",
   "version": "2.7.13"
  }
 },
 "nbformat": 4,
 "nbformat_minor": 2
}
