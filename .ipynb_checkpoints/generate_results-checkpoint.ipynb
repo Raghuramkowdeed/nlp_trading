{
 "cells": [
  {
   "cell_type": "code",
   "execution_count": 85,
   "metadata": {},
   "outputs": [
    {
     "name": "stdout",
     "output_type": "stream",
     "text": [
      "Populating the interactive namespace from numpy and matplotlib\n"
     ]
    }
   ],
   "source": [
    "import pandas as pd\n",
    "execfile('./optimizer.py')\n",
    "%pylab inline"
   ]
  },
  {
   "cell_type": "code",
   "execution_count": 113,
   "metadata": {
    "collapsed": true
   },
   "outputs": [],
   "source": [
    "execfile('./price_reader.py')\n",
    "execfile('./optimizer.py')\n",
    "execfile('./parser/score_func.py')\n",
    "execfile('./parser/score_utils.py')"
   ]
  },
  {
   "cell_type": "code",
   "execution_count": 49,
   "metadata": {},
   "outputs": [],
   "source": [
    "def combine_signals (signals , c_f):\n",
    "    combined_signal_df = signals[0].copy()\n",
    "    \n",
    "    for i in range( signals[0].shape[0] ):\n",
    "        \n",
    "        for j in range( signals[0].shape[1] ):\n",
    "            t = []\n",
    "            for k in range( len(signals) ) :\n",
    "                t.append(  signals[k].iloc[i,j] )\n",
    "            s = c_f(t)\n",
    "            combined_signal_df.iloc[i,j] = s\n",
    "\n",
    "    return combined_signal_df    "
   ]
  },
  {
   "cell_type": "code",
   "execution_count": 108,
   "metadata": {},
   "outputs": [],
   "source": [
    "text_count = pd.read_pickle('../data/signals/text_count.pkl')\n",
    "s_1a_count = pd.read_pickle('../data/signals/1_sa_count.pkl')\n",
    "mda_count = pd.read_pickle('../data/signals/mda_count.pkl')\n",
    "\n",
    "z_text_count = text_count.apply(axis=1,func=getZscore)\n",
    "z_text_count.fillna(value=np.nan, inplace=True)\n",
    "\n",
    "z_s_1a_count = s_1a_count.apply(axis=1,func=getZscore)\n",
    "z_s_1a_count.fillna(value=np.nan, inplace=True)\n",
    "\n",
    "z_mda_count = mda_count.apply(axis=1,func=getZscore)\n",
    "z_mda_count.fillna(value=np.nan, inplace=True)\n",
    "\n",
    "\n"
   ]
  },
  {
   "cell_type": "code",
   "execution_count": 110,
   "metadata": {},
   "outputs": [],
   "source": [
    "text_vw = pd.read_pickle('../data/signals/text_vw.pkl')\n",
    "s_1a_vw = pd.read_pickle('../data/signals/1_sa_vw.pkl')\n",
    "mda_vw = pd.read_pickle('../data/signals/mda_vw.pkl')\n",
    "\n",
    "z_text_vw = text_vw.apply(axis=1,func=getZscore)\n",
    "z_text_vw.fillna(value=np.nan, inplace=True)\n",
    "\n",
    "z_s_1a_vw = s_1a_vw.apply(axis=1,func=getZscore)\n",
    "z_s_1a_vw.fillna(value=np.nan, inplace=True)\n",
    "\n",
    "z_mda_vw = mda_vw.apply(axis=1,func=getZscore)\n",
    "z_mda_vw.fillna(value=np.nan, inplace=True)\n"
   ]
  },
  {
   "cell_type": "code",
   "execution_count": 111,
   "metadata": {
    "collapsed": true
   },
   "outputs": [],
   "source": [
    "text_sent = pd.read_pickle('../data/signals/text_sentiment.pkl')\n",
    "s_1a_sent = pd.read_pickle('../data/signals/1_sa_sentiment.pkl')\n",
    "mda_sent = pd.read_pickle('../data/signals/mda_sentiment.pkl')\n",
    "\n",
    "z_text_sent = text_sent.apply(axis=1,func=getZscore)\n",
    "z_text_sent.fillna(value=np.nan, inplace=True)\n",
    "\n",
    "z_s_1a_sent = s_1a_sent.apply(axis=1,func=getZscore)\n",
    "z_s_1a_sent.fillna(value=np.nan, inplace=True)\n",
    "\n",
    "z_mda_sent = mda_sent.apply(axis=1,func=getZscore)\n",
    "z_mda_sent.fillna(value=np.nan, inplace=True)\n"
   ]
  },
  {
   "cell_type": "code",
   "execution_count": 79,
   "metadata": {},
   "outputs": [],
   "source": [
    "def mean_f(vec):\n",
    "    vec = np.array(vec)\n",
    "    flag = np.isnan(vec).all()\n",
    "    if flag :\n",
    "        return np.nan\n",
    "    else:\n",
    "         ind = np.where(np.isnan(vec) == False)[0]\n",
    "         s = np.mean(vec[ind])\n",
    "         return s       \n",
    "\n",
    "def max_f(vec):\n",
    "    vec = np.array(vec)\n",
    "    flag = np.isnan(vec).all()\n",
    "    if flag :\n",
    "        return np.nan\n",
    "    else:\n",
    "         ind = np.where(np.isnan(vec) == False)[0]\n",
    "         s = max(0.0, np.max(vec[ind]) ) + min(0.0, np.min(vec[ind]) )\n",
    "         return s       \n",
    "\n",
    "def count_f(vec):\n",
    "    vec = np.array(vec)\n",
    "    flag = np.isnan(vec).all()\n",
    "    if flag :\n",
    "         return np.nan\n",
    "    else:\n",
    "         ind = np.where(np.isnan(vec) == False)[0]\n",
    "         ind_1 = np.where( (vec[ind]) > 0 ) [0]\n",
    "         ind_2 = np.where( (vec[ind]) <= 0 ) [0]\n",
    "         return len(ind_1) - len(ind_2)\n",
    "\n"
   ]
  },
  {
   "cell_type": "code",
   "execution_count": 32,
   "metadata": {},
   "outputs": [],
   "source": []
  },
  {
   "cell_type": "code",
   "execution_count": 115,
   "metadata": {},
   "outputs": [],
   "source": [
    "opt_dates = z_text_count.index\n",
    "factor_name = 'F-F_Research_Data_5_Factors_2x3_daily'\n",
    "tickers = text_count.columns"
   ]
  },
  {
   "cell_type": "code",
   "execution_count": 116,
   "metadata": {},
   "outputs": [],
   "source": [
    "op_wiz = OptimizationWizard(tickers, factor_name, opt_dates )"
   ]
  },
  {
   "cell_type": "code",
   "execution_count": 117,
   "metadata": {},
   "outputs": [],
   "source": [
    "def get_stats(signal_df, sec = 'TEXT_VW', adj_alpha = True , opt_type = 'quantile'):\n",
    "    print sec\n",
    "    alpha = 0\n",
    "    \n",
    "    alpha_tag = ''\n",
    "    if adj_alpha:\n",
    "        alpha_tag = 'adj_alpha'\n",
    "        alpha = op_wiz.getAlpha(signal_df=signal_df,ic=0.5,adj_alpha=True, const_fac=1.0)\n",
    "    else :   \n",
    "        alpha_tag = 'unadj_alpha'\n",
    "        alpha = op_wiz.getAlpha(signal_df=signal_df,ic=0.5,adj_alpha=False, const_fac=1.0)\n",
    "    \n",
    "    weights = 0\n",
    "    if opt_type == 'quantile' :\n",
    "        weights = op_wiz.getQuantileWeights(alpha, quantile= 0.25)\n",
    "    \n",
    "    if opt_type == 'mean_var':\n",
    "        weights = op_wiz.getMeanVarWeights(alpha)\n",
    "    \n",
    "    if opt_type == 'zero_beta':\n",
    "        weights = op_wiz.getZeroExposueWeights( alpha )\n",
    "        \n",
    "    \n",
    "    p1,f1,a1= op_wiz.runStrategy(weights)\n",
    "    \n",
    "    print a1\n",
    "    \n",
    "    s1 = a1.mean()/a1.std()\n",
    "\n",
    "\n",
    "    print 'Information Ratio'\n",
    "    print s1\n",
    "    print '------------'\n",
    "\n",
    "    title = sec + ' ' + alpha_tag + ' ' + opt_type\n",
    "    pnl = 1 + a1\n",
    "    pnl = pnl.cumprod()\n",
    "    \n",
    "    pylab.plot(opt_dates, pnl)\n",
    "    pylab.xlabel('time')\n",
    "    pylab.ylabel('cum pnl')\n",
    "    pylab.title(title)\n"
   ]
  },
  {
   "cell_type": "code",
   "execution_count": 147,
   "metadata": {},
   "outputs": [],
   "source": [
    "c_df_text = combine_signals([z_text_count, z_s_1a_count, z_mda_count], count_f)\n",
    "c_df_s_1a = combine_signals([z_text_vw, z_s_1a_vw, z_mda_vw], count_f)\n",
    "c_df_mda = combine_signals([z_text_sent, z_s_1a_sent, z_mda_sent ], count_f)\n"
   ]
  },
  {
   "cell_type": "code",
   "execution_count": 149,
   "metadata": {},
   "outputs": [
    {
     "name": "stdout",
     "output_type": "stream",
     "text": [
      "text\n",
      "2007-07-01   -0.078201\n",
      "2008-07-01    0.042470\n",
      "2009-07-01    0.007024\n",
      "2010-07-01   -0.055139\n",
      "2011-07-01   -0.048182\n",
      "2012-07-01    0.012958\n",
      "2013-07-01    0.007672\n",
      "2014-07-01    0.023008\n",
      "2015-07-01   -0.039142\n",
      "2016-07-01    0.016553\n",
      "dtype: float64\n",
      "Information Ratio\n",
      "-0.274965312727\n",
      "------------\n"
     ]
    },
    {
     "data": {
      "image/png": "[encoded data removed]",
      "text/plain": [
       "<matplotlib.figure.Figure at 0x11281f610>"
      ]
     },
     "metadata": {},
     "output_type": "display_data"
    }
   ],
   "source": [
    "get_stats(signal_df= c_df_mda, sec='text', opt_type='zero_beta', adj_alpha=True)\n"
   ]
  },
  {
   "cell_type": "code",
   "execution_count": null,
   "metadata": {
    "collapsed": true
   },
   "outputs": [],
   "source": []
  }
 ],
 "metadata": {
  "kernelspec": {
   "display_name": "Python 2",
   "language": "python",
   "name": "python2"
  },
  "language_info": {
   "codemirror_mode": {
    "name": "ipython",
    "version": 2
   },
   "file_extension": ".py",
   "mimetype": "text/x-python",
   "name": "python",
   "nbconvert_exporter": "python",
   "pygments_lexer": "ipython2",
   "version": "2.7.13"
  }
 },
 "nbformat": 4,
 "nbformat_minor": 2
}
