{
 "cells": [
  {
   "cell_type": "code",
   "execution_count": 2,
   "metadata": {
    "collapsed": true
   },
   "outputs": [],
   "source": [
    "import pandas as pd\n",
    "from multiprocessing import Pool\n",
    "execfile(\"./parser/sec_crawler.py\")\n",
    "execfile(\"./parser/section_extractor.py\")\n",
    "from pathos.helpers import cpu_count"
   ]
  },
  {
   "cell_type": "code",
   "execution_count": 8,
   "metadata": {
    "collapsed": true
   },
   "outputs": [],
   "source": [
    "dow_jones = pd.read_csv(\"../data/dow_jones.csv\")\n",
    "tickers = dow_jones.iloc[:,2]"
   ]
  },
  {
   "cell_type": "code",
   "execution_count": 15,
   "metadata": {
    "collapsed": true
   },
   "outputs": [],
   "source": [
    "\n"
   ]
  },
  {
   "cell_type": "code",
   "execution_count": 63,
   "metadata": {
    "collapsed": true
   },
   "outputs": [],
   "source": [
    "def my_func(tic):\n",
    "    get_10k_reports([tic], begin_year=2001, end_year=2015)\n",
    "    return 0\n",
    "\n",
    "down_load_10k = False\n",
    "if down_load_10k:\n",
    "    ncpus = cpu_count() if cpu_count() <= 8 else 8\n",
    "    p = Pool(processes = ncpus)\n",
    "    result = p.map(my_func,tickers)"
   ]
  },
  {
   "cell_type": "code",
   "execution_count": 69,
   "metadata": {
    "collapsed": true
   },
   "outputs": [],
   "source": [
    "run_sec_1a_extraction = False\n",
    "if run_sec_1a_extraction:\n",
    "    dir_list = next(os.walk('../data/10-K/'))[1]\n",
    "    for tic in dir_list:\n",
    "        store_ticker_1a(tic)"
   ]
  },
  {
   "cell_type": "code",
   "execution_count": 6,
   "metadata": {
    "collapsed": true
   },
   "outputs": [],
   "source": [
    "run_sec_1a_word_vec = False\n",
    "if run_sec_1a_word_vec:\n",
    "    dir_list = next(os.walk('../data/10-K/'))[1]\n",
    "    store_1a_wv(dir_list)"
   ]
  },
  {
   "cell_type": "code",
   "execution_count": 3,
   "metadata": {},
   "outputs": [],
   "source": [
    "dir_list = next(os.walk('../data/10-K/'))[1]\n"
   ]
  },
  {
   "cell_type": "code",
   "execution_count": 11,
   "metadata": {},
   "outputs": [
    {
     "name": "stdout",
     "output_type": "stream",
     "text": [
      "\u001b[34mAAPL\u001b[m\u001b[m \u001b[34mBA\u001b[m\u001b[m   \u001b[34mCSCO\u001b[m\u001b[m \u001b[34mDD\u001b[m\u001b[m   \u001b[34mGE\u001b[m\u001b[m   \u001b[34mHD\u001b[m\u001b[m   \u001b[34mINTC\u001b[m\u001b[m \u001b[34mJPM\u001b[m\u001b[m  \u001b[34mMMM\u001b[m\u001b[m  \u001b[34mMSFT\u001b[m\u001b[m \u001b[34mPFE\u001b[m\u001b[m  \u001b[34mTRV\u001b[m\u001b[m  \u001b[34mUTX\u001b[m\u001b[m  \u001b[34mWMT\u001b[m\u001b[m\r\n",
      "\u001b[34mAXP\u001b[m\u001b[m  \u001b[34mCAT\u001b[m\u001b[m  \u001b[34mCVX\u001b[m\u001b[m  \u001b[34mDIS\u001b[m\u001b[m  \u001b[34mGS\u001b[m\u001b[m   \u001b[34mIBM\u001b[m\u001b[m  \u001b[34mJNJ\u001b[m\u001b[m  \u001b[34mMCD\u001b[m\u001b[m  \u001b[34mMRK\u001b[m\u001b[m  \u001b[34mNKE\u001b[m\u001b[m  \u001b[34mPG\u001b[m\u001b[m   \u001b[34mUNH\u001b[m\u001b[m  \u001b[34mVZ\u001b[m\u001b[m   \u001b[34mXOM\u001b[m\u001b[m\r\n"
     ]
    }
   ],
   "source": []
  },
  {
   "cell_type": "code",
   "execution_count": 16,
   "metadata": {},
   "outputs": [
    {
     "ename": "StopIteration",
     "evalue": "",
     "output_type": "error",
     "traceback": [
      "\u001b[0;31m---------------------------------------------------------------------------\u001b[0m",
      "\u001b[0;31mStopIteration\u001b[0m                             Traceback (most recent call last)",
      "\u001b[0;32m<ipython-input-16-de4594dfdd71>\u001b[0m in \u001b[0;36m<module>\u001b[0;34m()\u001b[0m\n\u001b[0;32m----> 1\u001b[0;31m \u001b[0mnext\u001b[0m\u001b[0;34m(\u001b[0m\u001b[0mos\u001b[0m\u001b[0;34m.\u001b[0m\u001b[0mwalk\u001b[0m\u001b[0;34m(\u001b[0m\u001b[0;34m'~/data_nlp/10-K/'\u001b[0m\u001b[0;34m)\u001b[0m\u001b[0;34m)\u001b[0m\u001b[0;34m\u001b[0m\u001b[0m\n\u001b[0m",
      "\u001b[0;31mStopIteration\u001b[0m: "
     ]
    }
   ],
   "source": []
  },
  {
   "cell_type": "code",
   "execution_count": null,
   "metadata": {
    "collapsed": true
   },
   "outputs": [],
   "source": []
  }
 ],
 "metadata": {
  "kernelspec": {
   "display_name": "Python 2",
   "language": "python",
   "name": "python2"
  },
  "language_info": {
   "codemirror_mode": {
    "name": "ipython",
    "version": 2
   },
   "file_extension": ".py",
   "mimetype": "text/x-python",
   "name": "python",
   "nbconvert_exporter": "python",
   "pygments_lexer": "ipython2",
   "version": "2.7.13"
  }
 },
 "nbformat": 4,
 "nbformat_minor": 2
}
