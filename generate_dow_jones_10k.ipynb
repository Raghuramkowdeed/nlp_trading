{
 "cells": [
  {
   "cell_type": "code",
   "execution_count": 5,
   "metadata": {
    "collapsed": true
   },
   "outputs": [],
   "source": [
    "import pandas as pd\n",
    "from multiprocessing import Pool\n",
    "execfile(\"./parser/sec_crawler.py\")\n",
    "execfile(\"./parser/section_extractor.py\")\n",
    "from pathos.helpers import cpu_count"
   ]
  },
  {
   "cell_type": "code",
   "execution_count": 2,
   "metadata": {
    "collapsed": true
   },
   "outputs": [],
   "source": [
    "dow_jones = pd.read_csv(\"./dow_jones.csv\")\n",
    "tickers = dow_jones.iloc[:,2]"
   ]
  },
  {
   "cell_type": "code",
   "execution_count": 15,
   "metadata": {
    "collapsed": true
   },
   "outputs": [],
   "source": [
    "\n"
   ]
  },
  {
   "cell_type": "code",
   "execution_count": 63,
   "metadata": {
    "collapsed": true
   },
   "outputs": [],
   "source": [
    "def my_func(tic):\n",
    "    get_10k_reports([tic], begin_year=2001, end_year=2015)\n",
    "    return 0\n",
    "\n",
    "down_load_10k = False\n",
    "if down_load_10k:\n",
    "    ncpus = cpu_count() if cpu_count() <= 8 else 8\n",
    "    p = Pool(processes = ncpus)\n",
    "    result = p.map(my_func,tickers)"
   ]
  },
  {
   "cell_type": "code",
   "execution_count": 69,
   "metadata": {
    "collapsed": true
   },
   "outputs": [],
   "source": [
    "run_sec_1a_extraction = False\n",
    "if run_sec_1a_extraction:\n",
    "    dir_list = next(os.walk('./data/10-K/'))[1]\n",
    "    for tic in dir_list:\n",
    "        store_ticker_1a(tic)"
   ]
  },
  {
   "cell_type": "code",
   "execution_count": 6,
   "metadata": {},
   "outputs": [],
   "source": [
    "run_sec_1a_word_vec = False\n",
    "if run_sec_1a_word_vec:\n",
    "    dir_list = next(os.walk('./data/10-K/'))[1]\n",
    "    store_1a_wv(dir_list)"
   ]
  },
  {
   "cell_type": "code",
   "execution_count": null,
   "metadata": {
    "collapsed": true
   },
   "outputs": [],
   "source": []
  },
  {
   "cell_type": "code",
   "execution_count": 80,
   "metadata": {},
   "outputs": [
    {
     "data": {
      "text/plain": [
       "False"
      ]
     },
     "execution_count": 80,
     "metadata": {},
     "output_type": "execute_result"
    }
   ],
   "source": [
    "os.path.isdir(\"./data/10-K/MCD/S_1A/\")"
   ]
  },
  {
   "cell_type": "code",
   "execution_count": null,
   "metadata": {
    "collapsed": true
   },
   "outputs": [],
   "source": []
  }
 ],
 "metadata": {
  "kernelspec": {
   "display_name": "Python 2",
   "language": "python",
   "name": "python2"
  },
  "language_info": {
   "codemirror_mode": {
    "name": "ipython",
    "version": 2
   },
   "file_extension": ".py",
   "mimetype": "text/x-python",
   "name": "python",
   "nbconvert_exporter": "python",
   "pygments_lexer": "ipython2",
   "version": "2.7.13"
  }
 },
 "nbformat": 4,
 "nbformat_minor": 2
}
