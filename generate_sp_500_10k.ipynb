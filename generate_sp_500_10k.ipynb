{
 "cells": [
  {
   "cell_type": "code",
   "execution_count": 1,
   "metadata": {
    "collapsed": true
   },
   "outputs": [],
   "source": [
    "import pandas as pd\n",
    "from multiprocessing import Pool\n",
    "execfile(\"./parser/sec_crawler.py\")\n",
    "execfile(\"./parser/section_extractor.py\")\n",
    "from pathos.helpers import cpu_count"
   ]
  },
  {
   "cell_type": "code",
   "execution_count": 2,
   "metadata": {
    "collapsed": true
   },
   "outputs": [],
   "source": [
    "sp_500 = pd.read_csv(\"../data/sp500.csv\")\n",
    "tickers = sp_500.iloc[0:101,0]"
   ]
  },
  {
   "cell_type": "code",
   "execution_count": 7,
   "metadata": {
    "collapsed": true
   },
   "outputs": [],
   "source": [
    "count = 0\n"
   ]
  },
  {
   "cell_type": "code",
   "execution_count": null,
   "metadata": {},
   "outputs": [
    {
     "name": "stderr",
     "output_type": "stream",
     "text": [
      "No handlers could be found for logger \"bs4.dammit\"\n",
      "No handlers could be found for logger \"bs4.dammit\"\n",
      "No handlers could be found for logger \"bs4.dammit\"\n",
      "No handlers could be found for logger \"bs4.dammit\"\n"
     ]
    }
   ],
   "source": [
    "def my_func(tic):\n",
    "    try :\n",
    "        get_10k_reports([tic], begin_year=2001, end_year=2017)\n",
    "        global count\n",
    "        count = count + 1\n",
    "    except:\n",
    "        return 0\n",
    "    return 0\n",
    "\n",
    "down_load_10k = True\n",
    "if down_load_10k:\n",
    "    ncpus = cpu_count() if cpu_count() <= 8 else 8\n",
    "    p = Pool(processes = ncpus)\n",
    "    result = p.map(my_func,tickers)"
   ]
  },
  {
   "cell_type": "code",
   "execution_count": 3,
   "metadata": {
    "collapsed": true
   },
   "outputs": [],
   "source": [
    "run_sec_1a_extraction = True\n",
    "if run_sec_1a_extraction:\n",
    "    dir_list = next(os.walk('../data/10-K/'))[1]\n",
    "    for tic in dir_list:\n",
    "        try :\n",
    "            store_ticker_1a(tic)\n",
    "        except:\n",
    "            x = 10"
   ]
  },
  {
   "cell_type": "code",
   "execution_count": 4,
   "metadata": {
    "collapsed": true
   },
   "outputs": [],
   "source": [
    "run_sec_mda_extraction = True\n",
    "if run_sec_mda_extraction:\n",
    "    dir_list = next(os.walk('../data/10-K/'))[1]\n",
    "    store_ticker_section(tickers=dir_list, parsing_func=parse_mda, sec_dir='MDA')"
   ]
  },
  {
   "cell_type": "code",
   "execution_count": 6,
   "metadata": {
    "collapsed": true
   },
   "outputs": [],
   "source": [
    "run_sec_1a_word_vec = False\n",
    "if run_sec_1a_word_vec:\n",
    "    dir_list = next(os.walk('../data/10-K/'))[1]\n",
    "    store_1a_wv(dir_list)"
   ]
  },
  {
   "cell_type": "code",
   "execution_count": null,
   "metadata": {
    "collapsed": true
   },
   "outputs": [],
   "source": [
    "run_sec_word_vec = True\n",
    "sec_dirs = ['TEXT', 'MDA', 'S_1A']\n",
    "if run_sec_word_vec:\n",
    "    dir_list = next(os.walk('../data/10-K/'))[1]\n",
    "    store_sec_wv(sec_dirs=sec_dirs, tickers=dir_list)"
   ]
  },
  {
   "cell_type": "code",
   "execution_count": null,
   "metadata": {
    "collapsed": true
   },
   "outputs": [],
   "source": []
  },
  {
   "cell_type": "code",
   "execution_count": 16,
   "metadata": {},
   "outputs": [
    {
     "ename": "StopIteration",
     "evalue": "",
     "output_type": "error",
     "traceback": [
      "\u001b[0;31m---------------------------------------------------------------------------\u001b[0m",
      "\u001b[0;31mStopIteration\u001b[0m                             Traceback (most recent call last)",
      "\u001b[0;32m<ipython-input-16-de4594dfdd71>\u001b[0m in \u001b[0;36m<module>\u001b[0;34m()\u001b[0m\n\u001b[0;32m----> 1\u001b[0;31m \u001b[0mnext\u001b[0m\u001b[0;34m(\u001b[0m\u001b[0mos\u001b[0m\u001b[0;34m.\u001b[0m\u001b[0mwalk\u001b[0m\u001b[0;34m(\u001b[0m\u001b[0;34m'~/data_nlp/10-K/'\u001b[0m\u001b[0;34m)\u001b[0m\u001b[0;34m)\u001b[0m\u001b[0;34m\u001b[0m\u001b[0m\n\u001b[0m",
      "\u001b[0;31mStopIteration\u001b[0m: "
     ]
    }
   ],
   "source": []
  },
  {
   "cell_type": "code",
   "execution_count": null,
   "metadata": {
    "collapsed": true
   },
   "outputs": [],
   "source": []
  }
 ],
 "metadata": {
  "kernelspec": {
   "display_name": "Python 2",
   "language": "python",
   "name": "python2"
  },
  "language_info": {
   "codemirror_mode": {
    "name": "ipython",
    "version": 2
   },
   "file_extension": ".py",
   "mimetype": "text/x-python",
   "name": "python",
   "nbconvert_exporter": "python",
   "pygments_lexer": "ipython2",
   "version": "2.7.13"
  }
 },
 "nbformat": 4,
 "nbformat_minor": 2
}
